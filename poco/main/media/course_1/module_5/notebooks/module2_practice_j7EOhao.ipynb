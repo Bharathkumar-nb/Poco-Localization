{
 "cells": [
  {
   "cell_type": "markdown",
   "metadata": {},
   "source": [
    "## A place to practice\n",
    "\n",
    "This notebook is a place for you to practice for the assessment in this module. Below is the code to build the starter table used in the assessment. Feel free to try out whatever you want - it's your notebook and you can't hurt anything. The rows represent this data.\n",
    "\n",
    "<img src=\"https://www.dropbox.com/s/xdqv8lsvizlkua1/titanic_looping_test.png?raw=1\">\n"
   ]
  },
  {
   "cell_type": "code",
   "execution_count": null,
   "metadata": {
    "collapsed": false
   },
   "outputs": [],
   "source": [
    "# No reason to change this code. It sets up the table.\n",
    "\n",
    "# No reason to change this code. It sets up the table.\n",
    "\n",
    "row1 = {'Age': 22,\n",
    "  'Embarked': 'S',\n",
    "  'Fare': 7.25,\n",
    "  'Name': 'Braund, Mr. Owen Harris',\n",
    "  'Pclass': 3,\n",
    "  'Sex': 'male',\n",
    "  'Survived': 0\n",
    "}\n",
    "\n",
    "row2 = {'Age': 38,\n",
    "  'Embarked': 'C',\n",
    "  'Fare': 71.2833,\n",
    "  'Name': 'Cuming, Mrs. John Bradley (Florence Briggs Thayer)',\n",
    "  'Pclass': 1,\n",
    "  'Sex': 'female',\n",
    "  'Survived': 1\n",
    "}\n",
    "\n",
    "row3 = {'Age': 26,\n",
    "  'Embarked': 'S',\n",
    "  'Fare': 7.925,\n",
    "  'Name': 'Heikkinen, Miss. Laina',\n",
    "  'Pclass': 3,\n",
    "  'Sex': 'female',\n",
    "  'Survived': 1\n",
    "}\n",
    "\n",
    "row4 = {'Age': 2,\n",
    "  'Embarked': 'S',\n",
    "  'Fare': 21.075,\n",
    "  'Name': 'Palsson, Master. Gosta Leonard',\n",
    "  'Pclass': 3,\n",
    "  'Sex': 'male',\n",
    "  'Survived': 0\n",
    "}\n",
    " \n",
    "row5 = {'Age': 14,\n",
    "  'Embarked': 'C',\n",
    "  'Fare': 30.0708,\n",
    "  'Name': 'Nasser, Mrs. Nicholas (Adele Achem)',\n",
    "  'Pclass': 2,\n",
    "  'Sex': 'female',\n",
    "  'Survived': 1\n",
    "}\n",
    "\n",
    "row6 = {'Age': 4,\n",
    "  'Embarked': 'S',\n",
    "  'Fare': 16.7,\n",
    "  'Name': 'Sandstrom, Miss. Marguerite Rut',\n",
    "  'Pclass': 3,\n",
    "  'Sex': 'female',\n",
    "  'Survived': 1\n",
    "}\n",
    "\n",
    "row7 = {'Age': 58,\n",
    "  'Embarked': 'S',\n",
    "  'Fare': 26.55,\n",
    "  'Name': 'Bonnell, Miss. Elizabeth',\n",
    "  'Pclass': 1,\n",
    "  'Sex': 'female',\n",
    "  'Survived': 1\n",
    "}\n"
   ]
  },
  {
   "cell_type": "markdown",
   "metadata": {},
   "source": [
    "## Practice Problem 1\n",
    "\n",
    "Define `titanic_starter_table` to be a list of the rows."
   ]
  },
  {
   "cell_type": "code",
   "execution_count": null,
   "metadata": {
    "collapsed": false
   },
   "outputs": [],
   "source": []
  },
  {
   "cell_type": "markdown",
   "metadata": {},
   "source": [
    "## Practice Problem 2\n",
    "\n",
    "Use a mapping to build a list of the values in the `Survived` column of the table."
   ]
  },
  {
   "cell_type": "code",
   "execution_count": null,
   "metadata": {
    "collapsed": false
   },
   "outputs": [],
   "source": []
  },
  {
   "cell_type": "markdown",
   "metadata": {},
   "source": [
    "## Practice Problem 3\n",
    "\n",
    "Sum the list to see how many passengers survived."
   ]
  },
  {
   "cell_type": "code",
   "execution_count": null,
   "metadata": {
    "collapsed": false
   },
   "outputs": [],
   "source": []
  },
  {
   "cell_type": "markdown",
   "metadata": {},
   "source": [
    "## Practice Problem 4\n",
    "\n",
    "Do a mapping to convert the `Embarked` column to a list of letters (strings)."
   ]
  },
  {
   "cell_type": "code",
   "execution_count": null,
   "metadata": {
    "collapsed": false
   },
   "outputs": [],
   "source": []
  },
  {
   "cell_type": "markdown",
   "metadata": {},
   "source": [
    "## Practice Problem 5\n",
    "\n",
    "Here is a trick for counting the number of items in a list. We won't get to it until later modules so it is a bit of a preview here.\n",
    "```\n",
    "a_list = ['a','b','a','c']\n",
    "a_list.count('a')  # should show 2\n",
    "```\n",
    "Use this idea to count the number of times 'S' appears in the list from problem 4."
   ]
  },
  {
   "cell_type": "code",
   "execution_count": null,
   "metadata": {
    "collapsed": false
   },
   "outputs": [],
   "source": []
  }
 ],
 "metadata": {
  "kernelspec": {
   "display_name": "Python 2",
   "language": "python",
   "name": "python2"
  },
  "language_info": {
   "codemirror_mode": {
    "name": "ipython",
    "version": 2
   },
   "file_extension": ".py",
   "mimetype": "text/x-python",
   "name": "python",
   "nbconvert_exporter": "python",
   "pygments_lexer": "ipython2",
   "version": "2.7.13"
  }
 },
 "nbformat": 4,
 "nbformat_minor": 0
}
