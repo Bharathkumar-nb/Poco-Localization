{
 "cells": [
  {
   "cell_type": "markdown",
   "metadata": {},
   "source": [
    "<h2>Preliminaries</h2>\n",
    "<br/>\n",
    "This assessment is based on the historical record of passengers onboard the Titanic when it hit an iceberg and sunk in 1912. Only 7 passengers are included for now - later we will look at the entire passenger roster. The data about an individual passenger will be stored in a dictionary. A list will be used to hold all of the dictionaries. This produces a spreadsheet or table as shown below.\n",
    "<br/>\n",
    "<br/>\n",
    "<img src=\"https://www.dropbox.com/s/xdqv8lsvizlkua1/titanic_looping_test.png?raw=1\">\n",
    "<br/>\n",
    "<br/>\n",
    "I'll set up the data for you below."
   ]
  },
  {
   "cell_type": "code",
   "execution_count": null,
   "metadata": {
    "collapsed": false
   },
   "outputs": [],
   "source": [
    "# No reason to change this code. It sets up the table.\n",
    "\n",
    "row1 = {'Age': 22,\n",
    "  'Embarked': 'S',\n",
    "  'Fare': 7.25,\n",
    "  'Name': 'Braund, Mr. Owen Harris',\n",
    "  'Pclass': 3,\n",
    "  'Sex': 'male',\n",
    "  'Survived': 0\n",
    "}\n",
    "\n",
    "row2 = {'Age': 38,\n",
    "  'Embarked': 'C',\n",
    "  'Fare': 71.2833,\n",
    "  'Name': 'Cuming, Mrs. John Bradley (Florence Briggs Thayer)',\n",
    "  'Pclass': 1,\n",
    "  'Sex': 'female',\n",
    "  'Survived': 1\n",
    "}\n",
    "\n",
    "row3 = {'Age': 26,\n",
    "  'Embarked': 'S',\n",
    "  'Fare': 7.925,\n",
    "  'Name': 'Heikkinen, Miss. Laina',\n",
    "  'Pclass': 3,\n",
    "  'Sex': 'female',\n",
    "  'Survived': 1\n",
    "}\n",
    "\n",
    "row4 = {'Age': 2,\n",
    "  'Embarked': 'S',\n",
    "  'Fare': 21.075,\n",
    "  'Name': 'Palsson, Master. Gosta Leonard',\n",
    "  'Pclass': 3,\n",
    "  'Sex': 'male',\n",
    "  'Survived': 0\n",
    "}\n",
    " \n",
    "row5 = {'Age': 14,\n",
    "  'Embarked': 'C',\n",
    "  'Fare': 30.0708,\n",
    "  'Name': 'Nasser, Mrs. Nicholas (Adele Achem)',\n",
    "  'Pclass': 2,\n",
    "  'Sex': 'female',\n",
    "  'Survived': 1\n",
    "}\n",
    "\n",
    "row6 = {'Age': 4,\n",
    "  'Embarked': 'S',\n",
    "  'Fare': 16.7,\n",
    "  'Name': 'Sandstrom, Miss. Marguerite Rut',\n",
    "  'Pclass': 3,\n",
    "  'Sex': 'female',\n",
    "  'Survived': 1\n",
    "}\n",
    "\n",
    "row7 = {'Age': 58,\n",
    "  'Embarked': 'S',\n",
    "  'Fare': 26.55,\n",
    "  'Name': 'Bonnell, Miss. Elizabeth',\n",
    "  'Pclass': 1,\n",
    "  'Sex': 'female',\n",
    "  'Survived': 1\n",
    "}\n",
    "\n",
    "titanic_starter_table = [row1, row2, row3, row4, row5, row6, row7]"
   ]
  },
  {
   "cell_type": "markdown",
   "metadata": {},
   "source": [
    "<h2>Challenge 1</h2>\n",
    "<br/>\n",
    "Create a variable <code>miss_s</code> that contains the row information (the python dictionary) for Miss Sandstrom.\n",
    "<br><br>\n",
    "Reminder: <code>titanic_starter_table</code> represents the table as a list of dictionaries. Each item in the list is a row. Think about how to access items in a list.\n",
    "<br/>\n",
    "<br/>"
   ]
  },
  {
   "cell_type": "code",
   "execution_count": null,
   "metadata": {
    "collapsed": false
   },
   "outputs": [],
   "source": [
    "# Provide the code to get the record for Miss. Sandstrom\n",
    "\n"
   ]
  },
  {
   "cell_type": "code",
   "execution_count": null,
   "metadata": {
    "collapsed": true
   },
   "outputs": [],
   "source": [
    "print(miss_s)  # you can't do this in the poco assessment but can do it in notebook"
   ]
  },
  {
   "cell_type": "markdown",
   "metadata": {},
   "source": [
    "<h2>Challenge 2</h2>\n",
    "<br/>\n",
    "Create a variable <code>miss_s_age</code> that contains the age for Miss Sandstrom. You can assume  the variable <code>miss_s</code> is correctly defined from the prior assignment.\n",
    "<br/>\n",
    "<br/>\n",
    "I realize you can just look at the table and type in the value. But the challenge is to pretend you cannot see the value directly. How can you use the value in <code>miss_s</code> to get the age value?\n",
    "<br/>\n",
    "<br/>\n",
    "<img src=\"https://www.dropbox.com/s/ii56cqlski3udy9/challenge1_age.png?raw=1\">\n",
    "<br/>\n",
    "<br/>"
   ]
  },
  {
   "cell_type": "code",
   "execution_count": null,
   "metadata": {
    "collapsed": false
   },
   "outputs": [],
   "source": []
  },
  {
   "cell_type": "code",
   "execution_count": null,
   "metadata": {
    "collapsed": true
   },
   "outputs": [],
   "source": [
    "print(miss_s_age)"
   ]
  },
  {
   "cell_type": "markdown",
   "metadata": {},
   "source": [
    "<h2>Challenge 3</h2>\n",
    "<br/>\n",
    "Get the value of Mr. Braund's age and place it in the variable <code>mr_braund_age</code>.\n",
    "<br/>"
   ]
  },
  {
   "cell_type": "code",
   "execution_count": null,
   "metadata": {
    "collapsed": false
   },
   "outputs": [],
   "source": []
  },
  {
   "cell_type": "code",
   "execution_count": null,
   "metadata": {
    "collapsed": true
   },
   "outputs": [],
   "source": [
    "print(mr_braund_age)"
   ]
  },
  {
   "cell_type": "markdown",
   "metadata": {},
   "source": [
    "<h2>Challenge 4</h2>\n",
    "<br/>\n",
    "Create a list that contains the integer values of all ages in the table. Place the list in the variable <code>int_all_ages</code>.\n",
    "<br/>\n",
    "<br/>\n",
    "<img src=\"https://www.dropbox.com/s/bt8hlj4tr162kt6/Screen%20Shot%202016-07-13%20at%2012.34.38%20PM.png?raw=1\">\n"
   ]
  },
  {
   "cell_type": "code",
   "execution_count": null,
   "metadata": {
    "collapsed": false
   },
   "outputs": [],
   "source": []
  },
  {
   "cell_type": "code",
   "execution_count": null,
   "metadata": {
    "collapsed": true
   },
   "outputs": [],
   "source": [
    "print(int_all_ages)"
   ]
  },
  {
   "cell_type": "markdown",
   "metadata": {},
   "source": [
    "<h2>Challenge 5</h2>\n",
    "<br/>\n",
    "Assume <code>int_all_ages</code> is properly defined. Add the values in <code>int_all_ages</code> by using <code>sum</code>. Store the result in <code>sum_all_ages</code>.\n",
    "<br/>"
   ]
  },
  {
   "cell_type": "code",
   "execution_count": null,
   "metadata": {
    "collapsed": false
   },
   "outputs": [],
   "source": []
  },
  {
   "cell_type": "code",
   "execution_count": null,
   "metadata": {
    "collapsed": true
   },
   "outputs": [],
   "source": [
    "print(sum_all_ages)"
   ]
  },
  {
   "cell_type": "markdown",
   "metadata": {},
   "source": [
    "<h2>Challenge 6</h2>\n",
    "<br/>\n",
    "Assume <code>sum_all_ages</code> and <code>int_all_ages</code> hold the proper values. Compute the average age. Place the result in a variable called <code>average_age</code>. Be aware that when you divide two integers, your result is an integer, i.e., you lose the remainder. We will see how to deal with that later.\n",
    "<br/>"
   ]
  },
  {
   "cell_type": "code",
   "execution_count": null,
   "metadata": {
    "collapsed": true
   },
   "outputs": [],
   "source": []
  },
  {
   "cell_type": "code",
   "execution_count": null,
   "metadata": {
    "collapsed": true
   },
   "outputs": [],
   "source": [
    "print(average_age)  # should be an integer value"
   ]
  },
  {
   "cell_type": "markdown",
   "metadata": {},
   "source": [
    "<h2>Challenge 7</h2>\n",
    "<br/>\n",
    "Use the steps you have completed in Challenges 1-6 as a guide to compute the average Fare from the table. Store your result in <code>average_fare</code>. Note that the column contains decimal numbers so that when you divide you will get a decimal number.\n",
    "<br/>\n",
    "<br/>\n",
    "<img src=\"https://www.dropbox.com/s/ozp0zjxb5nhi5td/Screen%20Shot%202016-07-13%20at%2012.38.11%20PM.png?raw=1\">\n",
    "<br/>"
   ]
  },
  {
   "cell_type": "code",
   "execution_count": null,
   "metadata": {
    "collapsed": false
   },
   "outputs": [],
   "source": []
  },
  {
   "cell_type": "code",
   "execution_count": null,
   "metadata": {
    "collapsed": false
   },
   "outputs": [],
   "source": [
    "print(average_fare)"
   ]
  },
  {
   "cell_type": "markdown",
   "metadata": {},
   "source": [
    "<h2>Challenge 8</h2>\n",
    "<br/>\n",
    "Use the steps you have done in Challenges 1-6 as a guide to compute the average name length from the table. Hint: remember the function len will give you the length of a single string. Store your result in <code>average_name_length</code>. As with age, you will be dividing 2 integers so will get an integer result.\n",
    "<br/><br/>\n",
    "<img src=\"https://www.dropbox.com/s/n24yi49rs53olfc/Screen%20Shot%202016-07-13%20at%2012.40.24%20PM.png?raw=1\">\n",
    "<br/>"
   ]
  },
  {
   "cell_type": "code",
   "execution_count": null,
   "metadata": {
    "collapsed": true
   },
   "outputs": [],
   "source": []
  },
  {
   "cell_type": "code",
   "execution_count": null,
   "metadata": {
    "collapsed": true
   },
   "outputs": [],
   "source": [
    "print(average_name_length)  # will be an integer - you will lose the remainder when you divide"
   ]
  }
 ],
 "metadata": {
  "kernelspec": {
   "display_name": "Python 2",
   "language": "python",
   "name": "python2"
  },
  "language_info": {
   "codemirror_mode": {
    "name": "ipython",
    "version": 2
   },
   "file_extension": ".py",
   "mimetype": "text/x-python",
   "name": "python",
   "nbconvert_exporter": "python",
   "pygments_lexer": "ipython2",
   "version": "2.7.13"
  }
 },
 "nbformat": 4,
 "nbformat_minor": 0
}
