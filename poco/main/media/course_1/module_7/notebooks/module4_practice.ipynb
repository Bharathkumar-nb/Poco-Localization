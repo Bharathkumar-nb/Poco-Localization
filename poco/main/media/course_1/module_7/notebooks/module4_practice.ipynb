{
 "cells": [
  {
   "cell_type": "markdown",
   "metadata": {},
   "source": [
    "## A place to practice\n",
    "\n",
    "This notebook is a place for you to practice for the assessment in this module.\n"
   ]
  },
  {
   "cell_type": "markdown",
   "metadata": {},
   "source": [
    "## Practice Problem 1\n",
    "\n",
    "Load the spreadsheet from this url and print the first 5 rows.\n",
    "```\n",
    "https://docs.google.com/spreadsheets/d/1_artlzgoj6pDBCBfdt9-Jmc9RT9yLsZ0vTnk3zJmt_E/pub?gid=1291197392&single=true&output=csv\n",
    "```"
   ]
  },
  {
   "cell_type": "code",
   "execution_count": null,
   "metadata": {
    "collapsed": false
   },
   "outputs": [],
   "source": []
  },
  {
   "cell_type": "markdown",
   "metadata": {
    "collapsed": false
   },
   "source": [
    "## Practice Problem 2\n",
    "\n",
    "Load the spreadsheet from this url and print the first 5 rows.\n",
    "```\n",
    "https://docs.google.com/spreadsheets/d/1rXTskgYcw-9aYuMnHQx-R8aPme2gSMQN33ANK7nyv3A/pub?gid=973974657&single=true&output=csv\n",
    "```"
   ]
  },
  {
   "cell_type": "code",
   "execution_count": null,
   "metadata": {
    "collapsed": false
   },
   "outputs": [],
   "source": []
  },
  {
   "cell_type": "markdown",
   "metadata": {
    "collapsed": false
   },
   "source": [
    "## Practice Problem 3\n",
    "\n",
    "Load the spreadsheet from this url and print the first 5 rows.\n",
    "```\n",
    "https://docs.google.com/spreadsheets/d/1fCQZ135nEb4ZZ_PHYCTIY9NJrxKtUMxOX-E4idVzhrU/pub?output=csv\n",
    "```"
   ]
  },
  {
   "cell_type": "code",
   "execution_count": null,
   "metadata": {
    "collapsed": false
   },
   "outputs": [],
   "source": []
  },
  {
   "cell_type": "markdown",
   "metadata": {},
   "source": [
    "## Practice Problem 4\n",
    "\n",
    "Load the spreadsheet from this url and print the first 5 rows.\n",
    "```\n",
    "https://docs.google.com/spreadsheets/d/1yNUlB36GidJTUcQ5lhs57nyZ55Z-XQCmtx1OceE9v1M/pub?output=csv\n",
    "```"
   ]
  },
  {
   "cell_type": "code",
   "execution_count": null,
   "metadata": {
    "collapsed": false
   },
   "outputs": [],
   "source": []
  }
 ],
 "metadata": {
  "kernelspec": {
   "display_name": "Python 2",
   "language": "python",
   "name": "python2"
  },
  "language_info": {
   "codemirror_mode": {
    "name": "ipython",
    "version": 2
   },
   "file_extension": ".py",
   "mimetype": "text/x-python",
   "name": "python",
   "nbconvert_exporter": "python",
   "pygments_lexer": "ipython2",
   "version": "2.7.11"
  }
 },
 "nbformat": 4,
 "nbformat_minor": 0
}
