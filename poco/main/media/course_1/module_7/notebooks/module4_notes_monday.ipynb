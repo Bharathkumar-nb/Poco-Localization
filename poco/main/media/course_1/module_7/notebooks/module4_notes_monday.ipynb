{
 "cells": [
  {
   "cell_type": "markdown",
   "metadata": {},
   "source": [
    "## Module 4 notes\n"
   ]
  },
  {
   "cell_type": "code",
   "execution_count": null,
   "metadata": {
    "collapsed": false
   },
   "outputs": [],
   "source": [
    "import pandas as pd # helps with handling csv formatted data\n",
    "\n",
    "url = 'https://docs.google.com/spreadsheets/d/e/2PACX-1vRfRGwbQzwBPwjcvSw5j8ekURpBukF6Xh5K95Nk4tP3nrzpJUl38XQDzJEPXP4Qy3RZfn5-UW6up1Eg/pub?output=csv'\n",
    "df = pd.read_csv(url)  # reads in the data from web\n",
    "\n",
    "df_fill = df.fillna('') # replace empty values with empty string \n",
    "\n",
    "df_dict = df_fill.T.to_dict() # create dictionary\n",
    "\n",
    "table  = df_dict.values() # convert to final form\n",
    "\n",
    "print(len(table))\n",
    "\n",
    "table[:3]  # first 3 rows"
   ]
  },
  {
   "cell_type": "markdown",
   "metadata": {},
   "source": [
    "## Two types of errors\n",
    "\n",
    "1. Syntax errors - Python gives you error messages.\n",
    "\n",
    "2. Logic errors - you get the wrong answer.\n",
    "\n",
    "The assessment notebook can give you syntax errors. And allow you to print out values to hand-check for logic errors.\n",
    "\n",
    "Notebook cannot grade your code."
   ]
  },
  {
   "cell_type": "markdown",
   "metadata": {},
   "source": [
    "### Here are example logic errors (not detected by notebook)\n",
    "\n",
    "Compute the average Fare."
   ]
  },
  {
   "cell_type": "code",
   "execution_count": null,
   "metadata": {
    "collapsed": true
   },
   "outputs": [],
   "source": []
  }
 ],
 "metadata": {
  "kernelspec": {
   "display_name": "Python 2",
   "language": "python",
   "name": "python2"
  },
  "language_info": {
   "codemirror_mode": {
    "name": "ipython",
    "version": 2
   },
   "file_extension": ".py",
   "mimetype": "text/x-python",
   "name": "python",
   "nbconvert_exporter": "python",
   "pygments_lexer": "ipython2",
   "version": "2.7.13"
  }
 },
 "nbformat": 4,
 "nbformat_minor": 0
}
