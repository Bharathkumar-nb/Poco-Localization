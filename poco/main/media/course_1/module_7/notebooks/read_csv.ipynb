{
 "cells": [
  {
   "cell_type": "markdown",
   "metadata": {},
   "source": [
    "## How to read a csv file from your own computer\n",
    "\n",
    "Biggest problem is finding the correct path. On my Mac, the easiest is to use spotlight to search for the file. So I can click spotlight (top right of my desktop), search for `mascots.csv`, click on the file, and then hold down the command key. This will show me the path to the file as a pop up window near the bottom. \n",
    "\n",
    "<img src='https://www.dropbox.com/s/lwxknk1opo7yx4t/spotlight.png?raw=1'>\n",
    "\n",
    "Start your path where you see `Users`. Then where you see a right pointing arrow, replace that with a `/`. So above becomes: `'/Users/Tanous/Desktop/Temp'`. Remember to put starting `/` in front of `Users`.\n",
    "\n",
    "You will often download a file into your Downloads directory. In that case, you can use the path I have below as is once you change `fickas` to your name.\n",
    "\n",
    "Reminder: the code below will not run for you until you set up `path` and `file_name` correctly."
   ]
  },
  {
   "cell_type": "code",
   "execution_count": 4,
   "metadata": {
    "collapsed": false
   },
   "outputs": [
    {
     "name": "stdout",
     "output_type": "stream",
     "text": [
      "{'Hometown': 'San Diego', 'Scary': 'Yes', 'Nickname': 'Steve', 'Name': 'Stephen', 'HS Mascot': 'Cavemen'}\n",
      "21\n"
     ]
    }
   ],
   "source": [
    "import csv\n",
    "\n",
    "path = '/Users/fickas/Downloads/'  #can use spotlight to get this\n",
    "file_name = 'mascots.csv'\n",
    "\n",
    "csvfile = open(path+file_name)  # the + glues the 2 strings together\n",
    "reader = csv.DictReader(csvfile)\n",
    "my_table = [row for row in reader]\n",
    "\n",
    "print(my_table[0])\n",
    "print(len(my_table))"
   ]
  },
  {
   "cell_type": "code",
   "execution_count": null,
   "metadata": {
    "collapsed": true
   },
   "outputs": [],
   "source": []
  }
 ],
 "metadata": {
  "kernelspec": {
   "display_name": "Python 2.7",
   "language": "python",
   "name": "python2.7"
  },
  "language_info": {
   "codemirror_mode": {
    "name": "ipython",
    "version": 2
   },
   "file_extension": ".py",
   "mimetype": "text/x-python",
   "name": "python",
   "nbconvert_exporter": "python",
   "pygments_lexer": "ipython2",
   "version": "2.7.6"
  }
 },
 "nbformat": 4,
 "nbformat_minor": 0
}
