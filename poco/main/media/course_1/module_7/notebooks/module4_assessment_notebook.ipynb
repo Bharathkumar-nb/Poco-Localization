{
 "cells": [
  {
   "cell_type": "markdown",
   "metadata": {},
   "source": [
    "<h2>Preliminaries</h2>\n",
    "\n",
    "<p>We have been working with the Titanic dataset in this module. This assessment will ask you to transfer your skills to reading in another csv file stored on the web. As background, this Loan spreadsheet is another place to practice your prediction skills. The end-goal, which we will get to in future modules,  is to predict the value in the <code>Loan_Status</code> column (yes/no) using data in the other columns. In essence, can you predict whether a loan will be approved or not based on information about the loan applicant? We won't try to answer that question yet, but will start to explore the data.</p>\n",
    "<br/>\n",
    "<img src = 'https://www.dropbox.com/s/b4r9gks8m42nw6y/loan_table.png?raw=1'>\n",
    "<p>\n",
    "<p>You will likely want to use the practice notebook that goes with this module to explore concepts before attempting to solve these challenges.</p>\n",
    "<br/>\n",
    "<h2>Challenge 1</h2>\n",
    "\n",
    "<p>Here is the url of the loan CSV file that contains information about a set of loan applications (614 rows). The url is long so copy it from below and then paste it into your code cell - don't try to type it by hand.</p>\n",
    "<br/>\n",
    "<pre>\n",
    "https://docs.google.com/spreadsheets/d/1_artlzgoj6pDBCBfdt9-Jmc9RT9yLsZ0vTnk3zJmt_E/pub?gid=1291197392&single=true&output=csv\n",
    "</pre>\n",
    "<br/>\n",
    "<p>Read the file into a table called <code>loan_table</code> and set <code>first_row</code> to the first row of the table.</p>\n",
    "<br/><br/>"
   ]
  },
  {
   "cell_type": "code",
   "execution_count": null,
   "metadata": {
    "collapsed": false
   },
   "outputs": [],
   "source": []
  },
  {
   "cell_type": "code",
   "execution_count": null,
   "metadata": {
    "collapsed": true
   },
   "outputs": [],
   "source": [
    "print(first_row)  # just for checking here in notebook - don't copy to poco"
   ]
  },
  {
   "cell_type": "markdown",
   "metadata": {},
   "source": [
    "<h2>Challenge 2</h2>\n",
    "<br/>\n",
    "<p>Now that we have a table, let's do some mapping and filtering. Create a list from the <code>ApplicantIncome</code> column that contains the int values. Store this in variable <code>int_applicantincome_column</code>.</p>\n",
    "<br/>\n",
    "<p>You can assume that <code>loan_table</code> is <b>correctly</b> set up - you do not have to read it in again from a CSV file.</p>\n",
    "<br/><br/>"
   ]
  },
  {
   "cell_type": "code",
   "execution_count": null,
   "metadata": {
    "collapsed": false
   },
   "outputs": [],
   "source": []
  },
  {
   "cell_type": "markdown",
   "metadata": {},
   "source": [
    "<h2>Challenge 3</h2>\n",
    "<br/>\n",
    "<p>You can assume that <code>int_applicantincome_column</code> has been set correctly. Now add the values by summing and store in <code>sum_applicantincome_column</code>.</p>\n",
    "<br/><br/>\n"
   ]
  },
  {
   "cell_type": "code",
   "execution_count": null,
   "metadata": {
    "collapsed": false
   },
   "outputs": [],
   "source": []
  },
  {
   "cell_type": "markdown",
   "metadata": {},
   "source": [
    "<h2>Challenge 4</h2>\n",
    "<br/>\n",
    "<p>You can assume that <code>sum_applicantincome_column</code> and <code>int_applicantincome_column</code> have been set correctly. Compute the mean value and store in <code>mean_applicantincome</code>.</p>\n",
    "<br/><br/>"
   ]
  },
  {
   "cell_type": "code",
   "execution_count": null,
   "metadata": {
    "collapsed": false
   },
   "outputs": [],
   "source": []
  },
  {
   "cell_type": "markdown",
   "metadata": {},
   "source": [
    "<h2>Challenge 5</h2>\n",
    "<br/>\n",
    "<p>You can assume that <code>loan_table</code> has been set correctly. Compute the sub-table of all applicants that live in a Rural Property_Area. Store your result in <code>rural_table</code>.</p>\n",
    "<br/><br/>"
   ]
  },
  {
   "cell_type": "code",
   "execution_count": null,
   "metadata": {
    "collapsed": true
   },
   "outputs": [],
   "source": []
  },
  {
   "cell_type": "markdown",
   "metadata": {
    "collapsed": true
   },
   "source": [
    "<h2>Challenge 6</h2>\n",
    "<br/>\n",
    "<p>You can assume that <code>rural_table</code> has been set correctly. Compute the sub-table of all applicants that live in a Rural Property_Area and have a bad Credit_History. Store your result in <code>bad_rural_table</code>.</p>\n",
    "<br/><br/>"
   ]
  },
  {
   "cell_type": "code",
   "execution_count": null,
   "metadata": {
    "collapsed": true
   },
   "outputs": [],
   "source": []
  },
  {
   "cell_type": "markdown",
   "metadata": {},
   "source": [
    "<h2>Challenge 7</h2>\n",
    "<br/>\n",
    "<p>You can assume that <code>plt</code> has been set correctly and <code>loan_table</code> has been set correctly. Plot the <code>Loan_Amount_Term</code> column. Use 5 bars. Your goal is to duplicate the plot seen below in every detail. <b>IMPORTANT POINT</b>: you must skip over empties in the column. If you try to plot empty values, you will get a TypeError.</p>\n",
    "<img src='https://www.dropbox.com/s/1cdu1q83s4xzcq1/challenge7.png?raw=1'>\n",
    "<br/><br/>"
   ]
  },
  {
   "cell_type": "code",
   "execution_count": null,
   "metadata": {
    "collapsed": false
   },
   "outputs": [],
   "source": [
    "# These two lines are done for you in Poco - don't copy them over as part of your answer\n",
    "%matplotlib inline\n",
    "import matplotlib.pyplot as plt"
   ]
  },
  {
   "cell_type": "code",
   "execution_count": null,
   "metadata": {
    "collapsed": false
   },
   "outputs": [],
   "source": [
    "#your code goes here\n",
    "\n",
    "plt.show()  # done for you in Poco - don't copy over"
   ]
  }
 ],
 "metadata": {
  "kernelspec": {
   "display_name": "Python 2",
   "language": "python",
   "name": "python2"
  },
  "language_info": {
   "codemirror_mode": {
    "name": "ipython",
    "version": 2
   },
   "file_extension": ".py",
   "mimetype": "text/x-python",
   "name": "python",
   "nbconvert_exporter": "python",
   "pygments_lexer": "ipython2",
   "version": "2.7.13"
  }
 },
 "nbformat": 4,
 "nbformat_minor": 0
}
