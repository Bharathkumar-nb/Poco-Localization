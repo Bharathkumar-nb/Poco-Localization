{
 "cells": [
  {
   "cell_type": "markdown",
   "metadata": {},
   "source": [
    "<center><h1>Introduction to Data in Python</h1></center>"
   ]
  },
  {
   "cell_type": "markdown",
   "metadata": {},
   "source": [
    "## Preliminaries\n",
    "\n",
    "What you are looking at is called a jupyter notebook. It is pretty cool. It allows you to read text like this and also to execute/run Python code. To actual run the code in this notebook, you will need to have a notebook server running. The previous module provides instructions on how to set up a notebook server. I always like to verify that my server is running by typing a simple arithmetic expression and verifying that the answer appears when I run the cell.\n",
    "\n",
    "What does \"run the cell\" mean? All the boxes with an `In` on the left are called code cells in the notebook. You can run the code in them by (a) clicking on the cell and then (b) typing shift-enter. Sometimes you will see a new label called `Out`. Sometimes you will see nothing. But in the cell below you should definitely see `Out[...]: 7`. If you see nothing, your server is not running.\n",
    "\n",
    "Go ahead and click the cell below and type shift-enter. If you see nothing, review the previous module."
   ]
  },
  {
   "cell_type": "code",
   "execution_count": 1,
   "metadata": {
    "collapsed": false,
    "run_control": {
     "frozen": false,
     "read_only": false
    }
   },
   "outputs": [
    {
     "data": {
      "text/plain": [
       "7"
      ]
     },
     "execution_count": 1,
     "metadata": {},
     "output_type": "execute_result"
    }
   ],
   "source": [
    "3+4  # use the shift-enter combo to execute this cell - you should see 7 printed below"
   ]
  },
  {
   "cell_type": "markdown",
   "metadata": {},
   "source": [
    "## Big concept - labeled boxes\n",
    "\n",
    "Python stores data in what I call a labeled-box. The image below is meant to convey the large number of boxes you have at your disposal, each one coming with a blank label ready for you to fill in.\n",
    "\n",
    "<img src=\"https://www.dropbox.com/s/0wuv0pe3w2njg9c/boxes2.png?raw=1\" width=\"40%\">\n",
    "\n",
    "Python will hand you a box whenever you want one and allow you to put your own unique label on the box. How do you tell Python you want a new box? You use an equals-sign. Why an equals-sign? Good question. Many think it is a very bad idea to mix arithmetic syntax with box management. But most languages do it so that's what we are stuck with.\n",
    "\n",
    "On the left of the equals-sign you place your box label. On the right of the equals-sign you place the data you want to store in the box. Let's give it a shot. Click code cell below and then execute. Python is silent when creating boxes so you will see no visible output."
   ]
  },
  {
   "cell_type": "code",
   "execution_count": 3,
   "metadata": {
    "collapsed": true,
    "run_control": {
     "frozen": false,
     "read_only": false
    }
   },
   "outputs": [],
   "source": [
    "box1_label = 45 #  my first box!\n",
    "\n",
    "box2_label = 1 #  my 2nd box"
   ]
  },
  {
   "cell_type": "markdown",
   "metadata": {},
   "source": [
    "## Rules for labels\n",
    "\n",
    "Each separate box you create requires a unique label. Probably the biggest drawback to coming up with a label for a box is that you cannot use a hyphen. So I cannot do the following:\n",
    "\n",
    "```\n",
    "box1-label = 45  # produces an error\n",
    "```\n",
    "\n",
    "The general rule I follow is to use an underscore character whenever I would normally use a hyphen.\n",
    "\n",
    "The other rule is to try to make labels as descriptive as possible. Think about lots of boxes in your garage labeled stuff1, stuff2, stuff3, etc. Go away for a week and you cannot remember what you put in those boxes. I admit that I sometimes get lazy, both in labeling boxes in my garage and labeling python boxes. But I'll try to set a good example.\n",
    "\n",
    "All that said, I admit box1_label does nothing to help me know what is in the box! I'll change it up in a minute."
   ]
  },
  {
   "cell_type": "markdown",
   "metadata": {},
   "source": [
    "## You can look into boxes\n",
    "\n",
    "Now that you have values in a couple boxes, let's make use of them. The way you retrieve the value in a box is simply to type the box label. Let's take this problem on: I want to add the values in boxes 1 and 2 and place the result in a new box 3. Select the cell below and then type shift-enter to execute the code. Now you should see some output!"
   ]
  },
  {
   "cell_type": "code",
   "execution_count": 4,
   "metadata": {
    "collapsed": false,
    "run_control": {
     "frozen": false,
     "read_only": false
    }
   },
   "outputs": [
    {
     "name": "stdout",
     "output_type": "stream",
     "text": [
      "45\n",
      "1\n",
      "46\n"
     ]
    }
   ],
   "source": [
    "box3_label = box1_label + box2_label #  look inside the two boxes and get their values and sum them.\n",
    "\n",
    "print(box1_label)\n",
    "print(box2_label)\n",
    "print(box3_label)"
   ]
  },
  {
   "cell_type": "markdown",
   "metadata": {},
   "source": [
    "I introduced a new action called `print`. Actions like `print` are called *functions*. What print does is simply report the value it sees inside a box. It is a handy function to help you verify what you think you have in a box is actually what is in the box.\n",
    "\n",
    "More generally, in Python terms, the code below would be described as *a call on the function print with argument 'abc'*.\n",
    "\n",
    "```\n",
    "print('abc')\n",
    "```\n",
    "\n",
    "I will use the terms *function call* and *call on function* to mean we are are asking/calling a function to do something for us.\n",
    "\n",
    "I have also been using the `#` symbol without explaining it. The hashtag is used to place comments to yourself within your code. Python ignores anything it sees beyond the hashtag. Why do you need to leave comments for yourself? See my lament about forgetting what you were doing after a week or so. Comments can help you remember what you were doing."
   ]
  },
  {
   "cell_type": "markdown",
   "metadata": {},
   "source": [
    "## Big concept - updating a box\n",
    "\n",
    "So far we have created new boxes, placed values in them, and then just looked at the values time to time. What if I want to change the value in a box? It looks the same as box creation as seen below."
   ]
  },
  {
   "cell_type": "code",
   "execution_count": 5,
   "metadata": {
    "collapsed": false,
    "run_control": {
     "frozen": false,
     "read_only": false
    }
   },
   "outputs": [
    {
     "name": "stdout",
     "output_type": "stream",
     "text": [
      "-23\n"
     ]
    }
   ],
   "source": [
    "box1_label = -23  # direct change of the box value\n",
    "\n",
    "print(box1_label)"
   ]
  },
  {
   "cell_type": "markdown",
   "metadata": {},
   "source": [
    "In essence, when Python sees the equals-sign it checks all the boxes that already have labels and values to see if the label on the left already exists. If it does, it just gets that box out and ready for action. Otherwise it creates a new box with the given label. Above it sees that `box1_label` has already been defined so new new box is created.\n",
    "\n",
    "Next, -23 is placed in the box. What happens to the value that was in `box1_label`, i.e., `45`. It is lost. Boxes do not carry a history of their contents, only the current value they hold.\n",
    "\n",
    "Ok, for the tricky part: what if I want to add 1 to the value in an existing box? I want to update the value, not just replace it. Let's say we have a box called counter that starts at 0. Now we want to add 1 to it. Execute the code below to do that."
   ]
  },
  {
   "cell_type": "code",
   "execution_count": 6,
   "metadata": {
    "collapsed": false,
    "run_control": {
     "frozen": false,
     "read_only": false
    }
   },
   "outputs": [
    {
     "name": "stdout",
     "output_type": "stream",
     "text": [
      "0\n",
      "1\n"
     ]
    }
   ],
   "source": [
    "counter = 0  # gets me a new box\n",
    "\n",
    "print(counter)  # should be 0\n",
    "\n",
    "counter = counter + 1  # a bit odd - almost looks like weird algebra\n",
    "\n",
    "print(counter)  # should be 1"
   ]
  },
  {
   "cell_type": "markdown",
   "metadata": {},
   "source": [
    "So the order of operation for the `counter = counter + 1` update statement is:\n",
    "1. See the `=` so know box manipulation.\n",
    "2. Notice that label (i.e., `counter`) on left-hand side exists so do not need a new box.\n",
    "3. Now calculate the right-hand side, i.e., look at value of `counter` and add `1`.\n",
    "5. Throw-away whatever is in `counter` and replace it with updated value.\n",
    "\n",
    "The print functions show you that the value has updated.\n",
    "\n",
    "I think this update notion is a bit tricky. If you don't keep the ordered list of operations above in mind, it looks like you are simultaneously accessing and destroying values."
   ]
  },
  {
   "cell_type": "markdown",
   "metadata": {},
   "source": [
    "## New data type - strings\n",
    "\n",
    "I said that Python boxes can hold any type of data. We have been using integers. Let's look at a new type called strings. To use strings in Python is a bit like quoting someone speaking in a novel. You need to place quotes around both. I'll use an example from my days at San Diego High School playing our rivals at Lincoln High School."
   ]
  },
  {
   "cell_type": "code",
   "execution_count": 7,
   "metadata": {
    "collapsed": false,
    "run_control": {
     "frozen": false,
     "read_only": false
    }
   },
   "outputs": [
    {
     "name": "stdout",
     "output_type": "stream",
     "text": [
      "SDHS Cavers\n",
      "LHS Hornets\n"
     ]
    }
   ],
   "source": [
    "my_mascot = \"SDHS Cavers\"  # I am using double quotes on either side of the string\n",
    "my_rival_mascot = 'LHS Hornets'  # I am using single quotes on either side of the string.\n",
    "\n",
    "print(my_mascot)\n",
    "print(my_rival_mascot)"
   ]
  },
  {
   "cell_type": "markdown",
   "metadata": {},
   "source": [
    "I created 2 new boxes and placed strings in each. It is your choice on whether to use single or double quotes. I tend toward single quotes because I don't have to hit the shift key."
   ]
  },
  {
   "cell_type": "markdown",
   "metadata": {},
   "source": [
    "## Big concept - structured data\n",
    "\n",
    "Strings have a structure. They are actually compound data made up of characters. Given this, we should be able to ask how many characters are in a string. Python gives us the `len` function to do this."
   ]
  },
  {
   "cell_type": "code",
   "execution_count": 8,
   "metadata": {
    "collapsed": false,
    "run_control": {
     "frozen": false,
     "read_only": false
    }
   },
   "outputs": [
    {
     "name": "stdout",
     "output_type": "stream",
     "text": [
      "11\n"
     ]
    }
   ],
   "source": [
    "my_mascot_length = len(my_mascot)\n",
    "\n",
    "print(my_mascot_length)"
   ]
  },
  {
   "cell_type": "markdown",
   "metadata": {},
   "source": [
    "## New data type - lists\n",
    "\n",
    "Another structured data type, with some similarities to strings, is a list. While strings are a sequence of characters, a list is a sequence of anything. For lists, instead of quotes we use square-brackets to delimit the items in the list. And we use a comma to separate items. Below is a list to hold all my rivals. And a demonstration that the `len` function works with lists as well as strings."
   ]
  },
  {
   "cell_type": "code",
   "execution_count": 9,
   "metadata": {
    "collapsed": false,
    "run_control": {
     "frozen": false,
     "read_only": false
    }
   },
   "outputs": [
    {
     "name": "stdout",
     "output_type": "stream",
     "text": [
      "2\n"
     ]
    }
   ],
   "source": [
    "# next look at lists\n",
    "\n",
    "all_my_rivals = ['LHS Hornets', 'PLHS Pointers']  # a list of strings\n",
    "number_of_rivals = len(all_my_rivals)\n",
    "print(number_of_rivals)"
   ]
  },
  {
   "cell_type": "markdown",
   "metadata": {},
   "source": [
    "Below is another list, this time holding numbers as items. Notice I put the `len` function directly in the print function. In Python terms, the call on the `len` function below is a *nested function call*. When you have nested functions, the inner most function (e.g., `len`) is called first and returns a value (`2`). This value is then used by the function at the next level out (e.g., `print`)."
   ]
  },
  {
   "cell_type": "code",
   "execution_count": 10,
   "metadata": {
    "collapsed": false,
    "run_control": {
     "frozen": false,
     "read_only": false
    }
   },
   "outputs": [
    {
     "name": "stdout",
     "output_type": "stream",
     "text": [
      "5\n"
     ]
    }
   ],
   "source": [
    "temperature_last_5_days = [73, 75, 82, 80, 90]\n",
    "print( len(temperature_last_5_days) )"
   ]
  },
  {
   "cell_type": "markdown",
   "metadata": {},
   "source": [
    "## New data type - dictionaries\n",
    "\n",
    "The final structured data type we will look at is called a dictionary. A dictionary is built around key-value pairs. The key is a string and the value is anything. Let's look at a dictionary then discuss it."
   ]
  },
  {
   "cell_type": "code",
   "execution_count": 11,
   "metadata": {
    "collapsed": false,
    "run_control": {
     "frozen": false,
     "read_only": false
    }
   },
   "outputs": [
    {
     "name": "stdout",
     "output_type": "stream",
     "text": [
      "{'F': 90, 'Th': 80, 'M': 73, 'W': 82, 'Tu': 75}\n",
      "5\n"
     ]
    }
   ],
   "source": [
    "temp_by_day = {'M': 73, 'Tu': 75, 'W': 82, 'Th': 80, 'F': 90} #  not ordered as we will see\n",
    "print(temp_by_day)\n",
    "print(len(temp_by_day))"
   ]
  },
  {
   "cell_type": "markdown",
   "metadata": {},
   "source": [
    "What do you notice? First, curly-braces are used to delimit a dictionary. Second, the key-value pieces are separated by a colon. Third, the pairs are separated by commas.\n",
    "\n",
    "You can see when I print out the value of the dictionary, it has all the right key-value pairs but not in same order as I entered them. That's ok, we don't need them in any specific order.\n",
    "\n",
    "You can also see the `len` function also works with dictionaries. It gives us the number of pairs in the dictionary.\n",
    "\n",
    "The next cell has another example of a dictionary. I first set 5 boxes to different values. I then build a dictionary. As reminder, you can read code like this as *define a new pair with 'M' as the key and the value as whatever is in the box m_temp*.\n",
    "```\n",
    "'M': m_temp\n",
    "```"
   ]
  },
  {
   "cell_type": "code",
   "execution_count": 12,
   "metadata": {
    "collapsed": false,
    "run_control": {
     "frozen": false,
     "read_only": false
    }
   },
   "outputs": [
    {
     "name": "stdout",
     "output_type": "stream",
     "text": [
      "{'Tu': 75, 'F': 90, 'Th': 80, 'All temps': [73, 75, 82, 80, 90], 'M': 73, 'W': 82}\n"
     ]
    }
   ],
   "source": [
    "# Let's put it together\n",
    "\n",
    "m_temp = 73\n",
    "tu_temp = 75\n",
    "w_temp = 82\n",
    "th_temp = 80\n",
    "f_temp = 90\n",
    "\n",
    "week1_data = {'M': m_temp, 'Tu': tu_temp, 'W': w_temp, 'Th': th_temp, 'F': f_temp, 'All temps': [73,75,82,80,90]}\n",
    "print(week1_data)"
   ]
  },
  {
   "cell_type": "markdown",
   "metadata": {},
   "source": [
    "## Lists in dictionaries?\n",
    "\n",
    "You may have noticed I snuck in a new key `'All temps'`. And I gave it a value of a list of numbers. No problem. Values can be anything in a dictionary.\n",
    "\n",
    "## How about dictionaries in lists?\n",
    "\n",
    "Good question. You probably are guessing that this is ok in Python - I can have lists of dictionaries. And you are right. In fact, this is the basic way we will represent spreadsheets in Python - as lists of dictionaries. To demonstrate, let's build a small spreadsheet of weekly weather data. We already have week1 data. Now let's define week2 data."
   ]
  },
  {
   "cell_type": "code",
   "execution_count": 13,
   "metadata": {
    "collapsed": false,
    "run_control": {
     "frozen": false,
     "read_only": false
    }
   },
   "outputs": [
    {
     "name": "stdout",
     "output_type": "stream",
     "text": [
      "{'Tu': 78, 'F': 81, 'Th': 80, 'All temps': [77, 78, 75, 80, 81], 'M': 77, 'W': 75}\n"
     ]
    }
   ],
   "source": [
    "week2_data = {'M': 77, 'Tu': 78, 'W': 75, 'Th': 80, 'F': 81, 'All temps': [77,78,75,80,81]}\n",
    "print(week2_data)"
   ]
  },
  {
   "cell_type": "markdown",
   "metadata": {},
   "source": [
    "## Our first table\n",
    "\n",
    "I claim we now have 2 rows of data. We are just missing a place to store the two rows. Let's use a list!\n",
    "\n",
    "BTW: I will use the terms *table* and *spreadsheet* interchangeably from now on."
   ]
  },
  {
   "cell_type": "code",
   "execution_count": 14,
   "metadata": {
    "collapsed": false,
    "run_control": {
     "frozen": false,
     "read_only": false
    }
   },
   "outputs": [
    {
     "name": "stdout",
     "output_type": "stream",
     "text": [
      "[{'Tu': 75, 'F': 90, 'Th': 80, 'All temps': [73, 75, 82, 80, 90], 'M': 73, 'W': 82}, {'Tu': 78, 'F': 81, 'Th': 80, 'All temps': [77, 78, 75, 80, 81], 'M': 77, 'W': 75}]\n"
     ]
    }
   ],
   "source": [
    "temperature_table = [week1_data, week2_data]\n",
    "print(temperature_table)"
   ]
  },
  {
   "cell_type": "markdown",
   "metadata": {},
   "source": [
    "We will later see it is easy to add new rows to the table, e.g., week3 data, week4 data, etc. We can allow it to grow as we get more data. So what we have visually is this:\n",
    "\n",
    "<img src=\"https://www.dropbox.com/s/b0fvwwf3hdhfmju/Screen%20Shot%202016-07-27%20at%204.19.20%20PM.png?raw=1\">"
   ]
  },
  {
   "cell_type": "markdown",
   "metadata": {
    "collapsed": true
   },
   "source": [
    "## Wrap up\n",
    "\n",
    "Staying in this module, you have a couple places you can go from here. First, you can do live-coding with the Debugging video. Second, you can review the material we covered in this notebook. You can create new notebook cells with the + operator in the menu bar. Type your own code in to see how it works. Finally, you can test your skills by taking the assessment.\n",
    "\n",
    "The next module up looks at a concept called looping. It will be particularly useful for manipulating a table."
   ]
  },
  {
   "cell_type": "code",
   "execution_count": 15,
   "metadata": {
    "collapsed": false,
    "run_control": {
     "frozen": false,
     "read_only": false
    }
   },
   "outputs": [
    {
     "name": "stdout",
     "output_type": "stream",
     "text": [
      "See you in the next module.\n"
     ]
    }
   ],
   "source": [
    "print('See you in the next module.')"
   ]
  },
  {
   "cell_type": "code",
   "execution_count": null,
   "metadata": {
    "collapsed": true
   },
   "outputs": [],
   "source": []
  }
 ],
 "metadata": {
  "kernelspec": {
   "display_name": "Python 3",
   "language": "python",
   "name": "python3"
  },
  "language_info": {
   "codemirror_mode": {
    "name": "ipython",
    "version": 3
   },
   "file_extension": ".py",
   "mimetype": "text/x-python",
   "name": "python",
   "nbconvert_exporter": "python",
   "pygments_lexer": "ipython3",
   "version": "3.5.1"
  }
 },
 "nbformat": 4,
 "nbformat_minor": 0
}
