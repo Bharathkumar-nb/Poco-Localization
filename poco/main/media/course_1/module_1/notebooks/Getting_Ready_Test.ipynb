{
 "cells": [
  {
   "cell_type": "markdown",
   "metadata": {},
   "source": [
    "## Preliminaries\n",
    "\n",
    "I will use assessments in each module to test your Python skills. The general idea is that I give you a programming problem to solve. You then type in your answer as code. You hit a submit button, and your code is sent to a special Python listener we have set up. Python runs your code and provides results. We send the results back to you. If you had an error, you can modify your code and resubmit it. We do not limit how many times you submit - goal is to get it right and then move on to next problem.\n",
    "\n",
    "The problems often build on each other, i.e., they need to be taken in order to make sense of them. However, you do not have to actually solve one problem before trying the next. We just encourage it.\n",
    "\n",
    "Most modules have a \"playground\" notebook where you can practice the concepts in the module. Using the playground notebook is optional but encouraged to help in solving the assessment challenges.\n",
    "\n",
    "This very first assessment will not be on Python - we have not gotten to that module yet. Instead, it will make sure you can use Google docs and specifically Google Sheets to build your own spreadsheet.\n",
    "\n",
    "There are a sequence of instructions that lead up to the single challenge."
   ]
  },
  {
   "cell_type": "markdown",
   "metadata": {
    "collapsed": false
   },
   "source": [
    "### Go to Google Docs\n",
    "\n",
    "Click on https://www.google.com/sheets/about/\n",
    "\n",
    "I am assuming you have a google account. You may need to sign in using it. If you do not have a google account (e.g., gmail account), you will need to create one before tackling this step and following ones."
   ]
  },
  {
   "cell_type": "markdown",
   "metadata": {},
   "source": [
    "### Click on the +\n",
    "\n",
    "The + button is on the top left. It will create a new blank spreadsheet."
   ]
  },
  {
   "cell_type": "markdown",
   "metadata": {},
   "source": [
    "### Fill out the columns\n",
    "\n",
    "<img src='https://www.dropbox.com/s/w4mirkzgpq8nmgc/starter_sheet1.png?raw=1'>"
   ]
  },
  {
   "cell_type": "markdown",
   "metadata": {},
   "source": [
    "### Fill-in your own info\n",
    "\n",
    "<img src='https://www.dropbox.com/s/voahdjnlgz33siu/starter_sheet2.png?raw=1'>\n",
    "\n",
    "I put my info in but don't use that - use your own info."
   ]
  },
  {
   "cell_type": "markdown",
   "metadata": {},
   "source": [
    "### Get info from two classmates and add to your spreadsheet\n",
    "\n",
    "<img src='https://www.dropbox.com/s/yja7ack5vreq5dl/starter_sheet3.png?raw=1'>\n",
    "\n",
    "If you miss the first class, you can get information from friends or family."
   ]
  },
  {
   "cell_type": "markdown",
   "metadata": {},
   "source": [
    "### Rename your spreadsheet\n",
    "\n",
    "<img src='https://www.dropbox.com/s/qn0llylevudeyf2/starter_sheet4.png?raw=1'>\n",
    "\n",
    "See the text box on top left. You can type the new name into that box, replacing the `Untitled` label."
   ]
  },
  {
   "cell_type": "markdown",
   "metadata": {},
   "source": [
    "### Publish\n",
    "\n",
    "Choose the `File` menu then `Publish to the web`. You will get a pop-up. Choose the csv option.\n",
    "\n",
    "<img src='https://www.dropbox.com/s/9hkylstdqap6hm4/starter_sheet5.png?raw=1'>\n",
    "\n",
    "Then click Publish."
   ]
  },
  {
   "cell_type": "markdown",
   "metadata": {},
   "source": [
    "### Copy the link provided\n",
    "\n",
    "<img src='https://www.dropbox.com/s/4e7c0fcqivd3ufy/starter_sheet6.png?raw=1'>\n",
    "\n",
    "Use your normal copy command to copy the link to your clipboard."
   ]
  },
  {
   "cell_type": "markdown",
   "metadata": {},
   "source": [
    "### Paste the link into a browser tab\n",
    "\n",
    "You should be asked to choose where you want to download the file. Choose a place on your local computer."
   ]
  },
  {
   "cell_type": "markdown",
   "metadata": {},
   "source": [
    "### Now open in a text editor\n",
    "\n",
    "Use a text editor to open the file you just downloaded. You should see something like this. (I am using TextWrangler as my editor on my Mac.).\n",
    "\n",
    "<img src='https://www.dropbox.com/s/6rqfkoqdg8uu158/starter_sheet7.png?raw=1'>\n",
    "\n",
    "Later in the course we will see how to use the link you generated to skip the download step and read your spreadsheet directly into a Python program."
   ]
  },
  {
   "cell_type": "markdown",
   "metadata": {},
   "source": [
    "## Challenge 1\n",
    "\n",
    "Finally to the challenge. Submit your link (should still be on your clipboard) below. We will check that it represents a spreadsheet with correct columns and 3 rows of information."
   ]
  },
  {
   "cell_type": "code",
   "execution_count": null,
   "metadata": {
    "collapsed": true
   },
   "outputs": [],
   "source": []
  }
 ],
 "metadata": {
  "kernelspec": {
   "display_name": "Python 2",
   "language": "python",
   "name": "python2"
  },
  "language_info": {
   "codemirror_mode": {
    "name": "ipython",
    "version": 2
   },
   "file_extension": ".py",
   "mimetype": "text/x-python",
   "name": "python",
   "nbconvert_exporter": "python",
   "pygments_lexer": "ipython2",
   "version": "2.7.11"
  }
 },
 "nbformat": 4,
 "nbformat_minor": 0
}
