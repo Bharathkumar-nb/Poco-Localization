{
 "cells": [
  {
   "cell_type": "markdown",
   "metadata": {},
   "source": [
    "# Intro to Module 1 Assessment Notebook\n",
    "\n",
    "These are the 8 challenges from the Poco site for Module 1. You should solve each challenge sequentially - don't skip around or you will likely get errors.\n",
    "\n",
    "Why solve the challenges here first? Because you have the ability to use print statements and auto-complete, neither of which is available on the Poco site. In general, a notebook is a much better place to debug your code.\n",
    "\n",
    "I added a new code cell under Challenge 1 to print. You can add new code cells for printing under the other challenges by using the + button on menu bar above."
   ]
  },
  {
   "cell_type": "markdown",
   "metadata": {},
   "source": [
    "## Challenge 1\n",
    "\n",
    "Create 3 labeled boxes named one, two, three with values 1,2,3 in each respectively."
   ]
  },
  {
   "cell_type": "code",
   "execution_count": null,
   "metadata": {
    "collapsed": true
   },
   "outputs": [],
   "source": []
  },
  {
   "cell_type": "markdown",
   "metadata": {},
   "source": [
    "### Hint\n",
    "\n",
    "You can print out the values in your boxes to make sure they are what you expect. This is try for all the challenges below. Reminder: to add a new code cell use the + button in the menu bar above."
   ]
  },
  {
   "cell_type": "code",
   "execution_count": null,
   "metadata": {
    "collapsed": true
   },
   "outputs": [],
   "source": [
    "print(one)\n",
    "print(two)\n",
    "print(three)"
   ]
  },
  {
   "cell_type": "markdown",
   "metadata": {},
   "source": [
    "## Challenge 2\n",
    "\n",
    "Use the + operator to add 1 to the value in each of the boxes you created above."
   ]
  },
  {
   "cell_type": "code",
   "execution_count": null,
   "metadata": {
    "collapsed": true
   },
   "outputs": [],
   "source": []
  },
  {
   "cell_type": "markdown",
   "metadata": {},
   "source": [
    "## Challenge 3\n",
    "\n",
    "Create 3 new boxes month_1, month_2, month_3 that have the values 'January' , 'February', 'March' respectively. "
   ]
  },
  {
   "cell_type": "code",
   "execution_count": null,
   "metadata": {
    "collapsed": true
   },
   "outputs": [],
   "source": []
  },
  {
   "cell_type": "markdown",
   "metadata": {},
   "source": [
    "## Challenge 4\n",
    "\n",
    "Assume that the boxes month_1, month_2 and month_3 have been defined correctly - you can reference their values by just using their names. Create a new box called quarter1 that contains a list of the 3 months. "
   ]
  },
  {
   "cell_type": "code",
   "execution_count": null,
   "metadata": {
    "collapsed": true
   },
   "outputs": [],
   "source": []
  },
  {
   "cell_type": "markdown",
   "metadata": {},
   "source": [
    "## Challenge 5\n",
    "\n",
    "Assume that the boxes month_1, month_2 and month_3 have been defined correctly - you can reference their values by just using their names. Define a dictionary with keys 'One', 'Two', 'Three' and values in the boxes month_1, month_2 and month_3 respectively (the boxes you defined in Challenge 3). Put the dictionary in a box called dict_practice. "
   ]
  },
  {
   "cell_type": "code",
   "execution_count": null,
   "metadata": {
    "collapsed": true
   },
   "outputs": [],
   "source": []
  },
  {
   "cell_type": "markdown",
   "metadata": {},
   "source": [
    "## Challenge 6\n",
    "\n",
    "Define a dictionary for each of 3 dogs. The first dog has 'Name' 'Daisy' and 'Weight' 23. Build the dictionary and place in box daisy. The second dog has 'Name' 'Rusty' and 'Weight' 42. Build the dictionary and place in box rusty. The 3rd dog has 'Name' 'Ramona' and 'Weight' 25. Build the dictionary and place in box ramona. "
   ]
  },
  {
   "cell_type": "code",
   "execution_count": null,
   "metadata": {
    "collapsed": true
   },
   "outputs": [],
   "source": []
  },
  {
   "cell_type": "markdown",
   "metadata": {},
   "source": [
    "## Challenge 7\n",
    "\n",
    "Assume that the boxes daisy, rusty and ramona have been defined correctly - you can reference their values by just using their names. Define a list that contains the 3 dogs. Put the list in a box called dogs.\n",
    "\n",
    "Note that your list of dictionaries is a way in Python to store a table/spreadsheet like this:\n",
    "\n",
    "<img src=\"https://www.dropbox.com/s/migc5anhpn7yyvb/Screen%20Shot%202016-07-18%20at%2012.05.01%20PM.png?raw=1\">"
   ]
  },
  {
   "cell_type": "code",
   "execution_count": null,
   "metadata": {
    "collapsed": true
   },
   "outputs": [],
   "source": []
  },
  {
   "cell_type": "markdown",
   "metadata": {},
   "source": [
    "<head>\n",
    "\n",
    "  <style>\n",
    "    table {\n",
    "      border-collapse: collapse;\n",
    "    }\n",
    "    table, th, td {\n",
    "        border: 1px solid black;\n",
    "        padding: 15px;\n",
    "        text-align: center;\n",
    "        font-family:\"Arial\", Helvetica, sans-serif;\n",
    "    }\n",
    "  </style>\n",
    "\n",
    "</head>\n",
    "<body>\n",
    "<h2>Challenge 8</h2>\n",
    "<br/>\n",
    "First create a labeled-box <code>row0</code> for the first row in the table. Use a dictionary to represent the data in the row. Do the same with the next two rows using <code>row1</code> and <code>row2</code>, respectively.\n",
    "<p>\n",
    "Finally, build a list  that contains the 3 rows and place it in <code>crime_table</code>.\n",
    "<p style=\"margin-bottom:55px\">\n",
    "Hint: you can copy text from the table and paste it into your Python code to avoid typing long strings.\n",
    "</p>\n",
    "  <table>\n",
    "    <tr>\n",
    "      <th>cdatetime</th>\n",
    "      <th>address</th>\n",
    "      <th>district</th>\n",
    "      <th>beat</th>\n",
    "      <th>grid</th>\n",
    "      <th>crimedescr</th>\n",
    "      <th>latitude</th>\n",
    "      <th>longitude</th>\n",
    "    </tr>\n",
    "    <tr>\n",
    "      <td>1/1/2006 0:00:00</td>\n",
    "      <td>3108 OCCIDENTAL DR</td>\n",
    "      <td>3</td>\n",
    "      <td>3C</td>\n",
    "      <td>1115</td>\n",
    "      <td>TAKE VEH W/O OWNER</td>\n",
    "      <td>38.55042047</td>\n",
    "      <td>-121.3914158</td>\n",
    "    </tr>\n",
    "    <tr>\n",
    "      <td>1/1/2006 0:00:00</td>\n",
    "      <td>2082 EXPEDITION WAY</td>\n",
    "      <td>5</td>\n",
    "      <td>5A</td>\n",
    "      <td>1512</td>\n",
    "      <td>BURGLARY RESIDENCE</td>\n",
    "      <td>38.47350069</td>\n",
    "      <td>-121.4901858</td>\n",
    "    </tr>\n",
    "    <tr>\n",
    "      <td>1/1/2006 0:00:00</td>\n",
    "      <td>4 PALEN CT</td>\n",
    "      <td>2</td>\n",
    "      <td>2A</td>\n",
    "      <td>212</td>\n",
    "      <td>TAKE VEH W/O OWNER</td>\n",
    "      <td>38.65784584</td>\n",
    "      <td>-121.4621009</td>\n",
    "    </tr>\n",
    "  </table>\n",
    "</body>\n"
   ]
  },
  {
   "cell_type": "code",
   "execution_count": null,
   "metadata": {
    "collapsed": true
   },
   "outputs": [],
   "source": []
  },
  {
   "cell_type": "markdown",
   "metadata": {},
   "source": [
    "# References\n",
    "\n"
   ]
  }
 ],
 "metadata": {
  "kernelspec": {
   "display_name": "Python 2",
   "language": "python",
   "name": "python2"
  },
  "language_info": {
   "codemirror_mode": {
    "name": "ipython",
    "version": 2
   },
   "file_extension": ".py",
   "mimetype": "text/x-python",
   "name": "python",
   "nbconvert_exporter": "python",
   "pygments_lexer": "ipython2",
   "version": "2.7.13"
  }
 },
 "nbformat": 4,
 "nbformat_minor": 0
}
