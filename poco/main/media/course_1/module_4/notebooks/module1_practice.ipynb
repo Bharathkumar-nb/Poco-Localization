{
 "cells": [
  {
   "cell_type": "markdown",
   "metadata": {},
   "source": [
    "## A place to practice\n",
    "\n",
    "This notebook is a place for you to practice your Python programming skills, and also a place to practice for the assessment in this module. \n",
    "\n",
    "As a reminder, you can use the + menu item on top left to generate new cells in the notebook. The default is to get a new Code cell where you can type Python code and then type shift-enter to execute that code.\n",
    "\n",
    "But you can also take notes in your notebook. You can do this by changing from a Code cell to a Markdown cell. To do that, click the cell you want to change, then click the Code menu at top and select Markdown. Now you can type notes to yourself in the cell.\n",
    "\n",
    "There is no limit to the number of cells you can add to your notebook. Just keep clicking the + to get new ones and then decide if you want Code (the default) or Markdown. Cool.\n",
    "\n",
    "BTW: this is a markdown cell. It started as a Code cell but I changed it to markdown with menu at top.\n",
    "\n",
    "BTW2: you can get headings in a markdown cell by using hashtag (#) symbol followed by space. One hashtag gets you biggest heading. Two hashtags slighlty smaller. The more hashtags, the smaller your heading gets. If you double-click on this cell, you will see my two hashtags in action at the top."
   ]
  },
  {
   "cell_type": "code",
   "execution_count": null,
   "metadata": {
    "collapsed": false
   },
   "outputs": [],
   "source": [
    "#Here is a code cell to get you going - I used + at top to generate it\n",
    "\n",
    "x = 23\n",
    "print(x)  # remember to type shift-enter to execute the code in this cell"
   ]
  },
  {
   "cell_type": "markdown",
   "metadata": {},
   "source": [
    "## Practice Problem 1\n",
    "\n",
    "Create a list of the last 3 months of the year. Put the list in a labeled-box `months_last`."
   ]
  },
  {
   "cell_type": "code",
   "execution_count": null,
   "metadata": {
    "collapsed": true
   },
   "outputs": [],
   "source": []
  },
  {
   "cell_type": "markdown",
   "metadata": {},
   "source": [
    "## Practice Problem 2\n",
    "\n",
    "Below is a spreadsheet for the cost of 3 dogs who ran in the Iditarod race.\n",
    "\n",
    "<img src='https://www.dropbox.com/s/rutifgegnpxv9x9/iditarod.png?raw=1'>\n",
    "\n",
    "First, build 3 dictionaries that represent the 3 rows. You can ignore the `$` character and just enter the numbers. I'd probably choose the names `annie`, `sugar` and `klondike` for my box labels, but you can choose whatever makes sense to you."
   ]
  },
  {
   "cell_type": "code",
   "execution_count": null,
   "metadata": {
    "collapsed": true
   },
   "outputs": [],
   "source": []
  },
  {
   "cell_type": "markdown",
   "metadata": {},
   "source": [
    "## Practice Problem 3\n",
    "\n",
    "Create a list of your 3 rows - choose the box name you want to contain this list. Print the list to make sure it is what you expect, i.e., a list of 3 dictionaries."
   ]
  },
  {
   "cell_type": "code",
   "execution_count": null,
   "metadata": {
    "collapsed": true
   },
   "outputs": [],
   "source": []
  },
  {
   "cell_type": "markdown",
   "metadata": {},
   "source": [
    "## Practice Problem 4 (similar to challenge 8)\n",
    "\n",
    "Create a table (a list of dictionaries) that represents the following spreadsheet. First define the 3 rows. Then group them together into a list.\n",
    "\n",
    "Hint 1: you can make your life easier by copying text from the spreadsheet and then pasting into your Python code.\n",
    "\n",
    "Hint 2: once you build the first row, you can copy it and paste it to get the second row. All the keys will be the same - you just have to change the values for the second row.\n",
    "\n",
    "<head>\n",
    "\n",
    "  <style>\n",
    "    table {\n",
    "      border-collapse: collapse;\n",
    "    }\n",
    "    table, th, td {\n",
    "        border: 1px solid black;\n",
    "        padding: 15px;\n",
    "        text-align: center;\n",
    "        font-family:\"Arial\", Helvetica, sans-serif;\n",
    "    }\n",
    "  </style>\n",
    "\n",
    "</head>\n",
    "<body>\n",
    "  <table>\n",
    "    <tr>\n",
    "      <th>Location</th>\n",
    "      <th>Description</th>\n",
    "      <th>Date</th>\n",
    "      <th>Wrnty</th>\n",
    "      <th>Price</th>\n",
    "      <th>Condition</th>\n",
    "      <th>Est. Value</th>\n",
    "      <th>Notes</th>\n",
    "    </tr>\n",
    "    <tr>\n",
    "      <td>Family room</td>\n",
    "      <td>Panasonic Viera 65</td>\n",
    "      <td>10/3/2003</td>\n",
    "      <td>1 year</td>\n",
    "      <td>2,800.00</td>\n",
    "      <td>excellent</td>\n",
    "      <td>2,750.00</td>\n",
    "      <td>Only had for a year</td>\n",
    "    </tr>\n",
    "    <tr>\n",
    "      <td>Family room</td>\n",
    "      <td>2 couches</td>\n",
    "      <td>3/11/2004</td>\n",
    "      <td></td>\n",
    "      <td>2,400.00</td>\n",
    "      <td>good</td>\n",
    "      <td>1,300.00</td>\n",
    "      <td>No pets, no marks</td>\n",
    "    </tr>\n",
    "    <tr>\n",
    "      <td>Family room</td>\n",
    "      <td>Dell PC computer</td>\n",
    "      <td>6/13/2007</td>\n",
    "      <td>2 year</td>\n",
    "      <td>1,250.00</td>\n",
    "      <td>good</td>\n",
    "      <td>375.00</td>\n",
    "      <td></td>\n",
    "    </tr>\n",
    "  </table>\n",
    "</body>"
   ]
  },
  {
   "cell_type": "code",
   "execution_count": null,
   "metadata": {
    "collapsed": true
   },
   "outputs": [],
   "source": []
  }
 ],
 "metadata": {
  "kernelspec": {
   "display_name": "Python 2",
   "language": "python",
   "name": "python2"
  },
  "language_info": {
   "codemirror_mode": {
    "name": "ipython",
    "version": 2
   },
   "file_extension": ".py",
   "mimetype": "text/x-python",
   "name": "python",
   "nbconvert_exporter": "python",
   "pygments_lexer": "ipython2",
   "version": "2.7.13"
  }
 },
 "nbformat": 4,
 "nbformat_minor": 0
}
