{
 "cells": [
  {
   "cell_type": "markdown",
   "metadata": {},
   "source": [
    "## Fancier ways to do printing\n",
    "\n",
    "First I'll set up a few labeled boxes."
   ]
  },
  {
   "cell_type": "code",
   "execution_count": 31,
   "metadata": {
    "collapsed": true
   },
   "outputs": [],
   "source": [
    "w = {'key1': 5}\n",
    "x = 23\n",
    "y = \"23\"\n",
    "z = [1,2,3]"
   ]
  },
  {
   "cell_type": "markdown",
   "metadata": {},
   "source": [
    "Now I'll do standard printing one by one."
   ]
  },
  {
   "cell_type": "code",
   "execution_count": 32,
   "metadata": {
    "collapsed": false
   },
   "outputs": [
    {
     "name": "stdout",
     "output_type": "stream",
     "text": [
      "{'key1': 5}\n",
      "23\n",
      "23\n",
      "[1, 2, 3]\n"
     ]
    }
   ],
   "source": [
    "print(w)\n",
    "print(x)\n",
    "print(y)\n",
    "print(z)"
   ]
  },
  {
   "cell_type": "markdown",
   "metadata": {},
   "source": [
    "The first fancy way to do printing is to list all of your labels separated by commas. See below."
   ]
  },
  {
   "cell_type": "code",
   "execution_count": 33,
   "metadata": {
    "collapsed": false
   },
   "outputs": [
    {
     "name": "stdout",
     "output_type": "stream",
     "text": [
      "({'key1': 5}, 23, '23', [1, 2, 3])\n"
     ]
    }
   ],
   "source": [
    "print(w,x,y,z)"
   ]
  },
  {
   "cell_type": "markdown",
   "metadata": {},
   "source": [
    "The downside is that this adds a new set of parens to your print out. And does not give you separate lines for each value. The upside is that now strings like '23' are printed with their quotes. That's good! So overall I like this style. It is what I would recommend if you want something fancier."
   ]
  },
  {
   "cell_type": "markdown",
   "metadata": {},
   "source": [
    "## Advanced printing\n",
    "\n",
    "We can use something called the `format` method to do even fancier printing. First I'll show you the basic code that does almost the same as the print statement above."
   ]
  },
  {
   "cell_type": "code",
   "execution_count": 34,
   "metadata": {
    "collapsed": false
   },
   "outputs": [
    {
     "name": "stdout",
     "output_type": "stream",
     "text": [
      "{'key1': 5} 23 23 [1, 2, 3]\n"
     ]
    }
   ],
   "source": [
    "my_print = '{} {} {} {}'.format(w,x,y,z)\n",
    "print(my_print)"
   ]
  },
  {
   "cell_type": "markdown",
   "metadata": {},
   "source": [
    "Not great. I had to go to more work to get something of dubious improvement. I did remove the parens. But the '23' now has parens stripped off.\n",
    "\n",
    "Let me see if I can show you how format can give you more power. The general idea is that the string on the left is printed as is with one exception. When you see a `{}`, it says fill in with the value on the right. I'll use this below to add more info to what I print, i.e., I'll print the label and then grab the value."
   ]
  },
  {
   "cell_type": "code",
   "execution_count": 35,
   "metadata": {
    "collapsed": false
   },
   "outputs": [
    {
     "name": "stdout",
     "output_type": "stream",
     "text": [
      "w={'key1': 5} x=23 y=23 z=[1, 2, 3]\n"
     ]
    }
   ],
   "source": [
    "my_print = 'w={} x={} y={} z={}'.format(w,x,y,z)\n",
    "print(my_print)"
   ]
  },
  {
   "cell_type": "markdown",
   "metadata": {},
   "source": [
    "Let's make it even fancier. I'll include the `\\n` characters (called *backslash n*) in the string on the left. This says to print a newline. Check it out below."
   ]
  },
  {
   "cell_type": "code",
   "execution_count": 36,
   "metadata": {
    "collapsed": false
   },
   "outputs": [
    {
     "name": "stdout",
     "output_type": "stream",
     "text": [
      "w={'key1': 5} \n",
      " x=23  \n",
      " y=23 \n",
      " z=[1, 2, 3]\n"
     ]
    }
   ],
   "source": [
    "my_print = 'w={} \\n x={}  \\n y={} \\n z={}'.format(w,x,y,z)\n",
    "print(my_print)"
   ]
  },
  {
   "cell_type": "markdown",
   "metadata": {},
   "source": [
    "There are a lot fancier things you can do with `format`. I'd suggest googling on \"python format method\" and check out the information you find online. But to reiterate, I think just listing the labels in the print statement is plenty good enough."
   ]
  }
 ],
 "metadata": {
  "kernelspec": {
   "display_name": "Python 2.7",
   "language": "python",
   "name": "python2.7"
  },
  "language_info": {
   "codemirror_mode": {
    "name": "ipython",
    "version": 2
   },
   "file_extension": ".py",
   "mimetype": "text/x-python",
   "name": "python",
   "nbconvert_exporter": "python",
   "pygments_lexer": "ipython2",
   "version": "2.7.6"
  }
 },
 "nbformat": 4,
 "nbformat_minor": 0
}
