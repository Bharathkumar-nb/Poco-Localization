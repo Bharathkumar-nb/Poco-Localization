{
 "cells": [
  {
   "cell_type": "markdown",
   "metadata": {},
   "source": [
    "### Can two boxes have the same label?\n",
    "\n",
    "Short answer: no.\n",
    "\n",
    "But let's go through the steps that happen when you use the assignment operator (i.e., the equals sign).\n",
    "\n",
    "First, I'll assign the value 23 to a new box and label it `x`."
   ]
  },
  {
   "cell_type": "code",
   "execution_count": 3,
   "metadata": {
    "collapsed": false
   },
   "outputs": [
    {
     "name": "stdout",
     "output_type": "stream",
     "text": [
      "23\n"
     ]
    }
   ],
   "source": [
    "x = 23\n",
    "print(x)"
   ]
  },
  {
   "cell_type": "markdown",
   "metadata": {},
   "source": [
    "Here are the steps that Python carries out to execute the code above:\n",
    "\n",
    "1. See the `=` so know this is assignment.\n",
    "2. Get the value on the right - 23 in this case.\n",
    "3. Get the label on the left - `x` in this case.\n",
    "4. See if the label `x` is already in use. Is it labeling another box?\n",
    "5. No, so create a new box and put the label `x` on it.\n",
    "\n",
    "Step 4 is the key one as we will see.\n",
    "\n",
    "Let's try to create a second box labeled `x`."
   ]
  },
  {
   "cell_type": "code",
   "execution_count": 4,
   "metadata": {
    "collapsed": false
   },
   "outputs": [
    {
     "name": "stdout",
     "output_type": "stream",
     "text": [
      "24\n"
     ]
    }
   ],
   "source": [
    "x = 24\n",
    "print(x)"
   ]
  },
  {
   "cell_type": "markdown",
   "metadata": {},
   "source": [
    "Here are steps again:\n",
    "\n",
    "1. See the `=` so know this is assignment.\n",
    "2. Get the value on the right - 24 in this case.\n",
    "3. Get the label on the left - `x` in this case.\n",
    "4. See if the label `x` is already in use. Is it labeling another box?\n",
    "5. Yes, so use that box. Throw away the current value (23) and put in new value (24).\n",
    "\n",
    "Step 4 prohibits new boxes being created with same label."
   ]
  }
 ],
 "metadata": {
  "kernelspec": {
   "display_name": "Python 2.7",
   "language": "python",
   "name": "python2.7"
  },
  "language_info": {
   "codemirror_mode": {
    "name": "ipython",
    "version": 2
   },
   "file_extension": ".py",
   "mimetype": "text/x-python",
   "name": "python",
   "nbconvert_exporter": "python",
   "pygments_lexer": "ipython2",
   "version": "2.7.6"
  }
 },
 "nbformat": 4,
 "nbformat_minor": 0
}
