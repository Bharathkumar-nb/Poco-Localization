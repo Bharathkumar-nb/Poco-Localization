{
 "cells": [
  {
   "cell_type": "markdown",
   "metadata": {},
   "source": [
    "<h2>Preliminaries</h2>\n",
    "\n",
    "<p>We will again use the loan spreadsheet in this assessment. Below is a small snapshot of the larger table.</p>\n",
    "<br/>\n",
    "<img src = 'https://www.dropbox.com/s/b4r9gks8m42nw6y/loan_table.png?raw=1'>\n",
    "<p>\n",
    "<p>You will likely want to use the practice notebook that goes with this module to explore concepts before attempting to solve these challenges.</p>\n",
    "<br/>\n",
    "\n",
    "<p>Execute the code below to read values into a table called <code>loan_table</code> and set <code>first_row</code> to the first row of the table. This will be done for you in Poco.</p>\n",
    "<br/><br/>"
   ]
  },
  {
   "cell_type": "code",
   "execution_count": null,
   "metadata": {
    "collapsed": false
   },
   "outputs": [],
   "source": [
    "import pandas as pd\n",
    "url = 'https://docs.google.com/spreadsheets/d/1_artlzgoj6pDBCBfdt9-Jmc9RT9yLsZ0vTnk3zJmt_E/pub?gid=1291197392&single=true&output=csv'\n",
    "df = pd.read_csv(url)  # reads in the data from web\n",
    "df_fill = df.fillna('') # replace empty values with empty string \n",
    "df_dict = df_fill.T.to_dict() # create dictionary\n",
    "\n",
    "loan_table = df_dict.values()\n",
    "\n",
    "first_row = loan_table[0]\n",
    "first_row"
   ]
  },
  {
   "cell_type": "markdown",
   "metadata": {},
   "source": [
    "<h2>Challenge 1</h2>\n",
    "<br/>\n",
    "<p>Compute the average for the <code>Loan_Amount_Term</code> column. <b>WARNING</b>: if you try to use the `sum` function on a list that has empties, you will get a TypeError.</p>\n",
    "<p>Store your result in <code>lat_average.</code></p>\n",
    "<br/>\n",
    "\n"
   ]
  },
  {
   "cell_type": "code",
   "execution_count": null,
   "metadata": {
    "collapsed": false
   },
   "outputs": [],
   "source": []
  },
  {
   "cell_type": "markdown",
   "metadata": {},
   "source": [
    "<h2>Challenge 2</h2>\n",
    "<br/>\n",
    "<p>Compute the median of the <code>CoapplicantIncome</code> column. Store the median value in <code>coapplicantincome_median</code>.</p>\n",
    "<p>Suggestion: work this out in the notebook first.</p>\n",
    "<p>Hint: there are 2 versions of median, depending on the length of the column with empties removed.</p>\n",
    "<br/><br/>"
   ]
  },
  {
   "cell_type": "code",
   "execution_count": null,
   "metadata": {
    "collapsed": false
   },
   "outputs": [],
   "source": []
  },
  {
   "cell_type": "markdown",
   "metadata": {},
   "source": [
    "<h2>Challenge 3</h2>\n",
    "<br/>\n",
    "<p>Compute the median of the <code>ApplicantIncome</code> column. Store the median value in <code>applicant_median</code>.</p>\n",
    "<p>Suggestion: work this out in the notebook first.</p>\n",
    "<p>Hint: there are 2 versions of median, depending on the length of the column with empties removed.</p>\n",
    "<br/><br/>"
   ]
  },
  {
   "cell_type": "code",
   "execution_count": null,
   "metadata": {
    "collapsed": false
   },
   "outputs": [],
   "source": []
  },
  {
   "cell_type": "markdown",
   "metadata": {},
   "source": [
    "<h2>Challenge 4</h2>\n",
    "<br/>\n",
    "<p>Use the 3-sigma rule to determine how many outliers there are for the <code>Loan_Amount_Term</code> column. Store the number in the variable <code>total_outliers</code>.</p>\n",
    "<p>Feel free to copy code from the main content of this module and change as necessary for this challenge.</p>\n",
    "<p>See the warning in Challenge 1.</p>\n",
    "<br/><br/>"
   ]
  },
  {
   "cell_type": "code",
   "execution_count": null,
   "metadata": {
    "collapsed": false
   },
   "outputs": [],
   "source": []
  },
  {
   "cell_type": "markdown",
   "metadata": {
    "collapsed": true
   },
   "source": [
    "<h2>Challenge 5</h2>\n",
    "<br/>\n",
    "<p>Use your result from challenge 4 to compute the percentage of outliers. Now divide your percentage by the 3-sigma percentage. You should get a value of roughly 7. Store your result in <code>beyond_the_walls</code>.</p>\n",
    "<p>You should interpret your result as the `Loan_Amount_Term` column has roughy 7 times the number of outliers than allowed by 3 sigma. A bit worrisome.\n",
    "<br/><br/>"
   ]
  },
  {
   "cell_type": "code",
   "execution_count": null,
   "metadata": {
    "collapsed": false
   },
   "outputs": [],
   "source": []
  },
  {
   "cell_type": "markdown",
   "metadata": {},
   "source": [
    "<h2>Challenge 6</h2>\n",
    "<br/>\n",
    "<p>Use the 3-sigma rule to determine how many outliers there are for the <code>LoanAmount</code> column. Store the number in the variable <code>total_outliers</code>.</p>\n",
    "<br/><br/>"
   ]
  },
  {
   "cell_type": "code",
   "execution_count": null,
   "metadata": {
    "collapsed": false
   },
   "outputs": [],
   "source": []
  },
  {
   "cell_type": "markdown",
   "metadata": {},
   "source": [
    "<h2>Challenge 7</h2>\n",
    "<br/>\n",
    "<p>Use your result from challenge 6 to compute the percentage of outliers. Now divide your percentage by the 3-sigma percentage. You should get a value of roughly 9. Store your result in <code>beyond_the_walls</code>.</p>\n",
    "<p>You should interpret your result as the `LoanAmount` column has roughly 9 times the number of outliers than allowed by 3 sigma. Again, a bit worrisome.\n",
    "<br/><br/>"
   ]
  },
  {
   "cell_type": "code",
   "execution_count": null,
   "metadata": {
    "collapsed": true
   },
   "outputs": [],
   "source": []
  },
  {
   "cell_type": "markdown",
   "metadata": {},
   "source": [
    "<h2>Challenge 8</h2>\n",
    "<br/>\n",
    "<p>Find the mode of the <code>Property_Area</code> column. Store your result in <code>parea_mode</code>.</p>\n",
    "<br/><br/>"
   ]
  },
  {
   "cell_type": "code",
   "execution_count": null,
   "metadata": {
    "collapsed": true
   },
   "outputs": [],
   "source": []
  }
 ],
 "metadata": {
  "kernelspec": {
   "display_name": "Python 2",
   "language": "python",
   "name": "python2"
  },
  "language_info": {
   "codemirror_mode": {
    "name": "ipython",
    "version": 2
   },
   "file_extension": ".py",
   "mimetype": "text/x-python",
   "name": "python",
   "nbconvert_exporter": "python",
   "pygments_lexer": "ipython2",
   "version": "2.7.13"
  }
 },
 "nbformat": 4,
 "nbformat_minor": 0
}
