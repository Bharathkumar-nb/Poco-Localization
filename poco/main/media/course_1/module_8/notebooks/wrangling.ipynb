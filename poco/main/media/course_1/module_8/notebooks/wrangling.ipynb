{
 "cells": [
  {
   "cell_type": "markdown",
   "metadata": {},
   "source": [
    "<center><h1>Table Wrangling</h1></center>"
   ]
  },
  {
   "cell_type": "markdown",
   "metadata": {},
   "source": [
    "## Preliminaries\n",
    "\n",
    "Where we are heading is toward making predictions from the Titanic data. The critical prediction is on survival. We would like to use information about a passenger (gender, age, cabin class) to predict whether they survived the sinking. The general idea is that we will build our own predictor, try it on a passenger to get a guess (survived, perished) and then check our guess against the historical record to see if we were right. The better guesses we make, the more accurate is our predictor."
   ]
  },
  {
   "cell_type": "markdown",
   "metadata": {},
   "source": [
    "## Predicting Survival\n",
    "\n",
    "![Sinking of the RMS Titanic](https://pbs.twimg.com/profile_images/1305956322/titanic2.jpg \"Sinking of the RMS Titanic\")\n",
    "\n",
    "We will be working with a the passenger information (rows) from the Titanic sinking. Each row in our table has values for 11 fields describing that individual passenger. Our goal is to use one or more of 10 fields to predict the 11th field, `Survived`. Here is what we have to work with."
   ]
  },
  {
   "cell_type": "raw",
   "metadata": {},
   "source": [
    "Field/Column    Description\n",
    "\n",
    "Pclass          Passenger Class (1 = 1st; 2 = 2nd; 3 = 3rd)\n",
    "Survived        Survival (0 = No; 1 = Yes)\n",
    "Name            Name including salutation\n",
    "Sex             Gender\n",
    "Age             Age\n",
    "Sibsp           Number of Siblings/Spouses Aboard\n",
    "Parch           Number of Parents/Children Aboard\n",
    "Ticket          Ticket Number\n",
    "Fare            Passenger Fare\n",
    "Cabin           Cabin\n",
    "Embarked        Port of Embarkation \n",
    "                (C = Cherbourg; Q = Queenstown; S = Southampton)"
   ]
  },
  {
   "cell_type": "markdown",
   "metadata": {},
   "source": [
    "Let's load the data into a python table (same as with last module)."
   ]
  },
  {
   "cell_type": "code",
   "execution_count": 19,
   "metadata": {
    "collapsed": false
   },
   "outputs": [
    {
     "name": "stdout",
     "output_type": "stream",
     "text": [
      "{'Fare': '7.25', 'Name': 'Braund, Mr. Owen Harris', 'Embarked': 'S', 'Age': '22', 'Parch': '0', 'Pclass': '3', 'Sex': 'male', 'Survived': '0', 'SibSp': '1', 'PassengerId': '1', 'Ticket': 'A/5 21171', 'Cabin': ''}\n"
     ]
    }
   ],
   "source": [
    "from csv import DictReader # helps with handling csv formatted data\n",
    "\n",
    "from urllib2 import urlopen # helps with pulling data off the web\n",
    "\n",
    "url = 'https://docs.google.com/spreadsheets/d/1z1ycUZjJpmMWB4gXbhwRQ9B_qa42CwzAQkf82mLibxI/pub?output=csv'\n",
    "\n",
    "response = urlopen(url)\n",
    "\n",
    "titanic_table = [row for row in DictReader(response)]\n",
    "print(titanic_table[0])  # print the first row of the table - Mr. Braund"
   ]
  },
  {
   "cell_type": "markdown",
   "metadata": {},
   "source": [
    "What we have is a table represented as a list of dictionaries, no different than we have been working with in previous modules. Let's take the first row and print each of the 11 values."
   ]
  },
  {
   "cell_type": "code",
   "execution_count": 20,
   "metadata": {
    "collapsed": false
   },
   "outputs": [
    {
     "name": "stdout",
     "output_type": "stream",
     "text": [
      "Braund, Mr. Owen Harris\n",
      "22\n",
      "male\n",
      "3\n",
      "7.25\n",
      "0\n",
      "1\n",
      "\n",
      "A/5 21171\n",
      "1\n",
      "0\n"
     ]
    }
   ],
   "source": [
    "row1 = titanic_table[0]  # remember lists start at index 0\n",
    "print(row1['Name'])\n",
    "print(row1['Age'])\n",
    "print(row1['Sex'])\n",
    "print(row1['Pclass'])\n",
    "print(row1['Fare'])\n",
    "print(row1['Parch'])\n",
    "print(row1['SibSp'])\n",
    "print(row1['Cabin'])  # notice that this prints a blank line\n",
    "print(row1['Ticket'])\n",
    "print(row1['PassengerId'])\n",
    "print(row1['Survived'])  # what we will want to eventually predict"
   ]
  },
  {
   "cell_type": "markdown",
   "metadata": {},
   "source": [
    "Notice that the value for `Cabin` is a blank line. This means that the `Cabin` value for Mr. Braund is missing; could not be found in the historical record. This is typical of spreadsheet data - we often have missing cells/values and will have to figure out what to do about it."
   ]
  },
  {
   "cell_type": "markdown",
   "metadata": {},
   "source": [
    "## Everything is a string\n",
    "\n",
    "The `print` function will print \"3\" and 3 the same so we don't know if the value for Pclass is an integer or a string. I can tell you at this point, every value is a string. That's just the way the table is constructed from an outside file. Let's verify this using a new function called `type`. The `type` function takes a variable and tells you what data type it is. BTW: `str` stands for string."
   ]
  },
  {
   "cell_type": "code",
   "execution_count": 21,
   "metadata": {
    "collapsed": false
   },
   "outputs": [
    {
     "data": {
      "text/plain": [
       "str"
      ]
     },
     "execution_count": 21,
     "metadata": {},
     "output_type": "execute_result"
    }
   ],
   "source": [
    "type(row1['Pclass'])  # str"
   ]
  },
  {
   "cell_type": "markdown",
   "metadata": {},
   "source": [
    "We will have to keep this in mind as we explore the data further. Initially, all values are strings even if they look like they should be numbers."
   ]
  },
  {
   "cell_type": "markdown",
   "metadata": {},
   "source": [
    "## How many survived?\n",
    "\n",
    "We answered this question at the end of the last module but let's repeat it here."
   ]
  },
  {
   "cell_type": "code",
   "execution_count": 22,
   "metadata": {
    "collapsed": false
   },
   "outputs": [
    {
     "name": "stdout",
     "output_type": "stream",
     "text": [
      "342\n"
     ]
    }
   ],
   "source": [
    "survived_column = [row['Survived'] for row in titanic_table]  # string values\n",
    "int_survived_column = [int(val) for val in survived_column]  # int values\n",
    "sum_survivors = sum(int_survived_column)  # reduce to get total\n",
    "\n",
    "print(sum_survivors)  # not many!"
   ]
  },
  {
   "cell_type": "markdown",
   "metadata": {},
   "source": [
    "Now let's compute the percentage."
   ]
  },
  {
   "cell_type": "code",
   "execution_count": 23,
   "metadata": {
    "collapsed": false
   },
   "outputs": [
    {
     "name": "stdout",
     "output_type": "stream",
     "text": [
      "0.383838383838\n"
     ]
    }
   ],
   "source": [
    "survival_percentage = float(sum_survivors)/len(titanic_table)  # float to avoid truncation\n",
    "print(survival_percentage)  # 38% is not very good!"
   ]
  },
  {
   "cell_type": "markdown",
   "metadata": {},
   "source": [
    "Those two maps we just did? They would be considered \"data wrangling\". General idea is that the raw data you get, such as that in `titanic_table`, is rarely in perfect shape to start analyzing. So we will have to massage it (wrangle it) into form. Mapping a column from strings to ints would be part of the process. We will look at another data wrangling operation next."
   ]
  },
  {
   "cell_type": "markdown",
   "metadata": {},
   "source": [
    "## What about missing values?\n",
    "\n",
    "First, let's do a filtered map of all passengers who are missing their age value. Remember a filtered map is like a normal map but adds a 3rd piece to the very right, the filter. We are filtering on the value being the empty string. Empty cell values in a csv file are represented by the empty string in Python. So we are asking for all passengers whose Age value is empty, i.e. not recorded."
   ]
  },
  {
   "cell_type": "code",
   "execution_count": 24,
   "metadata": {
    "collapsed": false
   },
   "outputs": [
    {
     "name": "stdout",
     "output_type": "stream",
     "text": [
      "177\n"
     ]
    }
   ],
   "source": [
    "missing_ages = [row['Age'] for row in titanic_table if row['Age'] == \"\"]\n",
    "print( len(missing_ages))  # 177"
   ]
  },
  {
   "cell_type": "markdown",
   "metadata": {},
   "source": [
    "Wow. That's on the edge of being too many missing Age values. If we want to use the Age column in our predictor, we are stuck if no Age value to work with. So we should consider wrangling that column to fill in missing values. What to do about missing values is a really interesting problem. Options we might consider here:\n",
    "\n",
    "1. Use the mean of the column to fill in missing values.\n",
    "2. Use the median of the column to fill in missing values.\n",
    "3. Use the mode of the column to fill in missing values.\n",
    "4. More advanced, use other column values to fill in missing values.\n",
    "5. Don't fill in missing values - a missing value might be a predictor itself.\n",
    "\n",
    "The fancy word for above is *impute*: guess a value based on other info. There is no one right answer. The question is do any of the above improve predictive power? The first 3 are relatively easy to explore. You can compute the mean, median and mode of the Age column once and then try each out in the predictor. The 4th option is worth considering. For instance, perhaps we can guess an age by looking at the corresponding fields of `Sibsp` and `Parch`, which have to do with parents and children. Getting to an actual value will be a journey but might be worth it. We would be giving every passenger with a missing age a value based on their personal attributes, not some global value like mean. The 5th option is also interesting and we will explore it further in coming modules.\n",
    "\n",
    "Just to reiterate, we don't know what the real ages are for the missing values. So we cannot guess then see how we did. The critical question is do the values we fill in for the missing Ages help with overall prediction? If I fill in missing values in the Age column with the mean, does it give me higher prediction accuracy? We will look at this in more detail in the next module."
   ]
  },
  {
   "cell_type": "markdown",
   "metadata": {},
   "source": [
    "## Mean\n",
    "\n",
    "In case we need it later, let's compute the mean for the Age column. I am hoping you might have come up with these steps on your own for mean:\n",
    "1. Do a filtered map to get the non-empty age values.\n",
    "2. Do a map to change them from strings to floats. We need float because some ages are given as fractions, e.g., 28.5.\n",
    "3. Do a reduce using `sum`.\n",
    "4. Calculate mean."
   ]
  },
  {
   "cell_type": "code",
   "execution_count": 25,
   "metadata": {
    "collapsed": false
   },
   "outputs": [
    {
     "name": "stdout",
     "output_type": "stream",
     "text": [
      "29.6991176471\n"
     ]
    }
   ],
   "source": [
    "age_column = [row['Age'] for row in titanic_table if row['Age'] != \"\"]\n",
    "float_age_column = [float(val) for val in age_column]\n",
    "age_sum = sum(float_age_column)\n",
    "age_mean = age_sum/len(float_age_column)  # sum/n\n",
    "print(age_mean)  # 30.0 with round"
   ]
  },
  {
   "cell_type": "markdown",
   "metadata": {},
   "source": [
    "## What about missing gender values?\n",
    "\n",
    "Fortunately, there are no missing gender values in the Titanic data. But you may not always be so lucky with your own datasets. Gender is a binary value as is Survival. It does not make sense to take the mean of binary columns. If you find you have missing values in a binary column, think about using the mode as default - the value that appears most often. The assessment that goes with this module explores this idea in more detail with the loan dataset."
   ]
  },
  {
   "cell_type": "markdown",
   "metadata": {},
   "source": [
    "## Next up\n",
    "\n",
    "We looked at some beginning ideas in data wrangling in this module. The next module will be a start on doing prediction."
   ]
  }
 ],
 "metadata": {
  "kernelspec": {
   "display_name": "Python 2",
   "language": "python",
   "name": "python2"
  },
  "language_info": {
   "codemirror_mode": {
    "name": "ipython",
    "version": 2
   },
   "file_extension": ".py",
   "mimetype": "text/x-python",
   "name": "python",
   "nbconvert_exporter": "python",
   "pygments_lexer": "ipython2",
   "version": "2.7.11"
  }
 },
 "nbformat": 4,
 "nbformat_minor": 0
}
