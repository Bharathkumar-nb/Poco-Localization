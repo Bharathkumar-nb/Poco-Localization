{
 "cells": [
  {
   "cell_type": "markdown",
   "metadata": {},
   "source": [
    "## A place to practice\n",
    "\n",
    "This notebook is a place for you to practice for the assessment in this module. Below is the code to build the starter table used in the assessment. Feel free to try out whatever you want - it's your notebook and you can't hurt anything. The list `titanic_starter_table` represents the spreadsheet or table as shown below.\n",
    "\n",
    "<img src=\"https://www.dropbox.com/s/xdqv8lsvizlkua1/titanic_looping_test.png?raw=1\">\n"
   ]
  },
  {
   "cell_type": "code",
   "execution_count": 1,
   "metadata": {
    "collapsed": false
   },
   "outputs": [],
   "source": [
    "# No reason to change this code. It sets up the table.\n",
    "\n",
    "row1 = {'Age': 22,\n",
    "  'Embarked': 'S',\n",
    "  'Fare': 7.25,\n",
    "  'Name': 'Braund, Mr. Owen Harris',\n",
    "  'Pclass': 3,\n",
    "  'Sex': 'male',\n",
    "  'Survived': 0\n",
    "}\n",
    "\n",
    "row2 = {'Age': 38,\n",
    "  'Embarked': 'C',\n",
    "  'Fare': 71.2833,\n",
    "  'Name': 'Cuming, Mrs. John Bradley (Florence Briggs Thayer)',\n",
    "  'Pclass': 1,\n",
    "  'Sex': 'female',\n",
    "  'Survived': 1\n",
    "}\n",
    "\n",
    "row3 = {'Age': 26,\n",
    "  'Embarked': 'S',\n",
    "  'Fare': 7.925,\n",
    "  'Name': 'Heikkinen, Miss. Laina',\n",
    "  'Pclass': 3,\n",
    "  'Sex': 'female',\n",
    "  'Survived': 1\n",
    "}\n",
    "\n",
    "row4 = {'Age': 2,\n",
    "  'Embarked': 'S',\n",
    "  'Fare': 21.075,\n",
    "  'Name': 'Palsson, Master. Gosta Leonard',\n",
    "  'Pclass': 3,\n",
    "  'Sex': 'male',\n",
    "  'Survived': 0\n",
    "}\n",
    "\n",
    "row5 = {'Age': 14,\n",
    "  'Embarked': 'C',\n",
    "  'Fare': 30.0708,\n",
    "  'Name': 'Nasser, Mrs. Nicholas (Adele Achem)',\n",
    "  'Pclass': 2,\n",
    "  'Sex': 'female',\n",
    "  'Survived': 1\n",
    "}\n",
    "\n",
    "row6 = {'Age': 4,\n",
    "  'Embarked': 'S',\n",
    "  'Fare': 16.7,\n",
    "  'Name': 'Sandstrom, Miss. Marguerite Rut',\n",
    "  'Pclass': 3,\n",
    "  'Sex': 'female',\n",
    "  'Survived': 1\n",
    "}\n",
    "\n",
    "row7 = {'Age': 58,\n",
    "  'Embarked': 'S',\n",
    "  'Fare': 26.55,\n",
    "  'Name': 'Bonnell, Miss. Elizabeth',\n",
    "  'Pclass': 1,\n",
    "  'Sex': 'female',\n",
    "  'Survived': 1\n",
    "}\n",
    "\n",
    "titanic_starter_table = [row1, row2, row3, row4, row5, row6, row7]"
   ]
  },
  {
   "cell_type": "markdown",
   "metadata": {},
   "source": [
    "<img src='https://www.dropbox.com/s/tq97ktihnk1na2s/review.png?raw=1'>"
   ]
  },
  {
   "cell_type": "markdown",
   "metadata": {},
   "source": [
    "According to this diagram, if I see\n",
    "\n",
    "```\n",
    "for row in titanic_table\n",
    "```\n",
    "\n",
    "I should read it as:\n",
    "\n",
    "1. setup a dropbox and call it row. Maybe this is the first step you should do. Name your dropbox.\n",
    "\n",
    "2. Put values in the dropbox (called row in our case) whenever needed. Get the values from the list titanic_table.\n",
    "\n",
    "What gets put in the dropbox in this case? A dictionary representing a passenger. So calling the dropbox passenger also makes sense to me. Calling if foo is legal but not useful. Use dropbox names that make sense to you."
   ]
  },
  {
   "cell_type": "markdown",
   "metadata": {},
   "source": [
    "If I see this\n",
    "\n",
    "```\n",
    "[row['Age'] for row in titanic_table]\n",
    "```\n",
    "\n",
    "I should read it as:\n",
    "\n",
    "1. The factory is now hooked into the dropbox. The factory will look in the dropbox for raw material to work with.\n",
    "\n",
    "2. The factory is what I have been calling a refinery. It takes an entire dictionary and pulls out a piece of it. Maybe extractor would be a better name for it!\n",
    "\n",
    "3. The other piece is the list constructor (bottom of picture). It takes the results of the factory and builds a new list, in this case, of passenger ages."
   ]
  },
  {
   "cell_type": "markdown",
   "metadata": {},
   "source": [
    "## Where does the filter sit?\n",
    "\n",
    "The way I have been explaining it, the guard sits between the dropbox and the factory.\n",
    "\n",
    "<img src='https://www.dropbox.com/s/79pcl15djqk4pmp/review2.png?raw=1'>\n",
    "\n",
    "So for this:\n",
    "\n",
    "```\n",
    "[row['Age'] for row in titanic_table if row['Age'] >10]\n",
    "```\n",
    "\n",
    "I should read it as:\n",
    "\n",
    "1. A dictionary is dropped in the dropbox called row by the feeder.\n",
    "\n",
    "2. The guard examines what was dropped. If the guard likes it, the value is passed to the factory. If guard does not like it, the value is put into recycling and the factory never sees it.\n",
    "\n",
    "The guard likes something if the statement `row['Age'] >10` is True."
   ]
  },
  {
   "cell_type": "markdown",
   "metadata": {},
   "source": [
    "## Practice Problem 1\n",
    "\n",
    "Build a sub-table of those passengers who embarked in Cherbourg (C)."
   ]
  },
  {
   "cell_type": "code",
   "execution_count": null,
   "metadata": {
    "collapsed": false
   },
   "outputs": [],
   "source": []
  },
  {
   "cell_type": "markdown",
   "metadata": {},
   "source": [
    "## Practice Problem 2\n",
    "\n",
    "Create a sub-table of those passengers that survived."
   ]
  },
  {
   "cell_type": "code",
   "execution_count": null,
   "metadata": {
    "collapsed": false
   },
   "outputs": [],
   "source": []
  },
  {
   "cell_type": "markdown",
   "metadata": {},
   "source": [
    "## Practice Problem 3\n",
    "\n",
    "Build a new sub-table from the main table of those who paid less than 30.0 as Fare."
   ]
  },
  {
   "cell_type": "code",
   "execution_count": null,
   "metadata": {
    "collapsed": false
   },
   "outputs": [],
   "source": []
  },
  {
   "cell_type": "markdown",
   "metadata": {},
   "source": [
    "## Practice Problem 4\n",
    "\n",
    "Build a second sub-table, using result of practice problem 3, of passengers who paid less than 30.0 and were female."
   ]
  },
  {
   "cell_type": "code",
   "execution_count": null,
   "metadata": {
    "collapsed": false
   },
   "outputs": [],
   "source": []
  },
  {
   "cell_type": "markdown",
   "metadata": {},
   "source": [
    "## Practice problem 5\n",
    "\n",
    "Ok, one more sub-table. Use the sub-table from problem 4 to build a sub-table of all passengers that (a) paid less than 30.0, (b) were female, and (c) were in 3rd class."
   ]
  },
  {
   "cell_type": "code",
   "execution_count": null,
   "metadata": {
    "collapsed": false
   },
   "outputs": [],
   "source": []
  },
  {
   "cell_type": "markdown",
   "metadata": {},
   "source": [
    "## Practice problem 6\n",
    "\n",
    "Find the average of passenger ages but exclude those younger than 5."
   ]
  },
  {
   "cell_type": "code",
   "execution_count": null,
   "metadata": {
    "collapsed": true
   },
   "outputs": [],
   "source": []
  }
 ],
 "metadata": {
  "kernelspec": {
   "display_name": "Python 2",
   "language": "python",
   "name": "python2"
  },
  "language_info": {
   "codemirror_mode": {
    "name": "ipython",
    "version": 2
   },
   "file_extension": ".py",
   "mimetype": "text/x-python",
   "name": "python",
   "nbconvert_exporter": "python",
   "pygments_lexer": "ipython2",
   "version": "2.7.13"
  }
 },
 "nbformat": 4,
 "nbformat_minor": 0
}
