{
 "cells": [
  {
   "cell_type": "markdown",
   "metadata": {},
   "source": [
    "## A place to practice\n",
    "\n",
    "This notebook is a place for you to practice for the assessment in this module. Below is the code to build the starter table used in the assessment. Feel free to try out whatever you want - it's your notebook and you can't hurt anything. The list `titanic_starter_table` represents the spreadsheet or table as shown below.\n",
    "\n",
    "<img src=\"https://www.dropbox.com/s/xdqv8lsvizlkua1/titanic_looping_test.png?raw=1\">\n"
   ]
  },
  {
   "cell_type": "code",
   "execution_count": 1,
   "metadata": {
    "collapsed": false
   },
   "outputs": [],
   "source": [
    "# No reason to change this code. It sets up the table.\n",
    "\n",
    "row1 = {'Age': '22',\n",
    "  'Embarked': 'S',\n",
    "  'Fare': '7.25',\n",
    "  'Name': 'Braund, Mr. Owen Harris',\n",
    "  'Pclass': '3',\n",
    "  'Sex': 'male',\n",
    "  'Survived': '0'\n",
    "}\n",
    "\n",
    "row2 = {'Age': '38',\n",
    "  'Embarked': 'C',\n",
    "  'Fare': '71.2833',\n",
    "  'Name': 'Cuming, Mrs. John Bradley (Florence Briggs Thayer)',\n",
    "  'Pclass': '1',\n",
    "  'Sex': 'female',\n",
    "  'Survived': '1'\n",
    "}\n",
    "\n",
    "row3 = {'Age': '26',\n",
    "  'Embarked': 'S',\n",
    "  'Fare': '7.925',\n",
    "  'Name': 'Heikkinen, Miss. Laina',\n",
    "  'Pclass': '3',\n",
    "  'Sex': 'female',\n",
    "  'Survived': '1'\n",
    "}\n",
    "\n",
    "row4 = {'Age': '2',\n",
    "  'Embarked': 'S',\n",
    "  'Fare': '21.075',\n",
    "  'Name': 'Palsson, Master. Gosta Leonard',\n",
    "  'Pclass': '3',\n",
    "  'Sex': 'male',\n",
    "  'Survived': '0'\n",
    "}\n",
    " \n",
    "row5 = {'Age': '14',\n",
    "  'Embarked': 'C',\n",
    "  'Fare': '30.0708',\n",
    "  'Name': 'Nasser, Mrs. Nicholas (Adele Achem)',\n",
    "  'Pclass': '2',\n",
    "  'Sex': 'female',\n",
    "  'Survived': '1'\n",
    "}\n",
    "\n",
    "row6 = {'Age': '4',\n",
    "  'Embarked': 'S',\n",
    "  'Fare': '16.7',\n",
    "  'Name': 'Sandstrom, Miss. Marguerite Rut',\n",
    "  'Pclass': '3',\n",
    "  'Sex': 'female',\n",
    "  'Survived': '1'\n",
    "}\n",
    "\n",
    "row7 = {'Age': '58',\n",
    "  'Embarked': 'S',\n",
    "  'Fare': '26.55',\n",
    "  'Name': 'Bonnell, Miss. Elizabeth',\n",
    "  'Pclass': '1',\n",
    "  'Sex': 'female',\n",
    "  'Survived': '1'\n",
    "}\n",
    "\n",
    "titanic_starter_table = [row1, row2, row3, row4, row5, row6, row7]"
   ]
  },
  {
   "cell_type": "markdown",
   "metadata": {},
   "source": [
    "## Practice Problem 1\n",
    "\n",
    "Build a sub-table of those passengers who embarked in Cherbourg (C)."
   ]
  },
  {
   "cell_type": "code",
   "execution_count": null,
   "metadata": {
    "collapsed": true
   },
   "outputs": [],
   "source": []
  },
  {
   "cell_type": "markdown",
   "metadata": {},
   "source": [
    "## Practice Problem 2\n",
    "\n",
    "Use concepts of mapping, reducing, filtering to compute what percentage of C passengers that survived."
   ]
  },
  {
   "cell_type": "code",
   "execution_count": null,
   "metadata": {
    "collapsed": true
   },
   "outputs": [],
   "source": []
  },
  {
   "cell_type": "markdown",
   "metadata": {},
   "source": [
    "## Practice Problem 3\n",
    "\n",
    "Build a new sub-table from the main table of those who paid less than 30.0 as Fare."
   ]
  },
  {
   "cell_type": "code",
   "execution_count": null,
   "metadata": {
    "collapsed": true
   },
   "outputs": [],
   "source": []
  },
  {
   "cell_type": "markdown",
   "metadata": {},
   "source": [
    "## Practice Problem 4\n",
    "\n",
    "Build a second sub-table, using result of practice problem 3, of passengers who paid less than 30.0 and were female."
   ]
  },
  {
   "cell_type": "code",
   "execution_count": null,
   "metadata": {
    "collapsed": true
   },
   "outputs": [],
   "source": []
  },
  {
   "cell_type": "markdown",
   "metadata": {},
   "source": [
    "## Practice Problem 5\n",
    "\n",
    "Compute the percentage of survivors from the second sub-table."
   ]
  },
  {
   "cell_type": "code",
   "execution_count": null,
   "metadata": {
    "collapsed": true
   },
   "outputs": [],
   "source": []
  },
  {
   "cell_type": "markdown",
   "metadata": {},
   "source": [
    "## Explore on your own\n",
    "\n",
    "Reminder: you can open a new code cell by clicking the + button on the top left. You execute a cell by clicking on it (to get focus) and then typing shift-enter."
   ]
  },
  {
   "cell_type": "code",
   "execution_count": 4,
   "metadata": {
    "collapsed": true
   },
   "outputs": [],
   "source": [
    "# Go to it"
   ]
  }
 ],
 "metadata": {
  "kernelspec": {
   "display_name": "Python 2",
   "language": "python",
   "name": "python2"
  },
  "language_info": {
   "codemirror_mode": {
    "name": "ipython",
    "version": 2
   },
   "file_extension": ".py",
   "mimetype": "text/x-python",
   "name": "python",
   "nbconvert_exporter": "python",
   "pygments_lexer": "ipython2",
   "version": "2.7.11"
  }
 },
 "nbformat": 4,
 "nbformat_minor": 0
}
