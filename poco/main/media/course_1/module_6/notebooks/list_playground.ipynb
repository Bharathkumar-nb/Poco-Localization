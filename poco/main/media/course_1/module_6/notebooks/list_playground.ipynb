{
 "cells": [
  {
   "cell_type": "markdown",
   "metadata": {},
   "source": [
    "## A place to practice\n",
    "\n",
    "This notebook is a place for you to practice for the assessment in this module. Below is the code to build the starter table used in the assessment. Feel free to try out whatever you want - it's your notebook and you can't hurt anything. The list `titanic_starter_table` represents the spreadsheet or table as shown below.\n",
    "\n",
    "<img src=\"https://www.dropbox.com/s/xdqv8lsvizlkua1/titanic_looping_test.png?raw=1\">\n"
   ]
  },
  {
   "cell_type": "code",
   "execution_count": 1,
   "metadata": {
    "collapsed": false
   },
   "outputs": [],
   "source": [
    "# No reason to change this code. It sets up the table.\n",
    "\n",
    "row1 = {'Age': '22',\n",
    "  'Embarked': 'S',\n",
    "  'Fare': '7.25',\n",
    "  'Name': 'Braund, Mr. Owen Harris',\n",
    "  'Pclass': '3',\n",
    "  'Sex': 'male',\n",
    "  'Survived': '0'\n",
    "}\n",
    "\n",
    "row2 = {'Age': '38',\n",
    "  'Embarked': 'C',\n",
    "  'Fare': '71.2833',\n",
    "  'Name': 'Cuming, Mrs. John Bradley (Florence Briggs Thayer)',\n",
    "  'Pclass': '1',\n",
    "  'Sex': 'female',\n",
    "  'Survived': '1'\n",
    "}\n",
    "\n",
    "row3 = {'Age': '26',\n",
    "  'Embarked': 'S',\n",
    "  'Fare': '7.925',\n",
    "  'Name': 'Heikkinen, Miss. Laina',\n",
    "  'Pclass': '3',\n",
    "  'Sex': 'female',\n",
    "  'Survived': '1'\n",
    "}\n",
    "\n",
    "row4 = {'Age': '2',\n",
    "  'Embarked': 'S',\n",
    "  'Fare': '21.075',\n",
    "  'Name': 'Palsson, Master. Gosta Leonard',\n",
    "  'Pclass': '3',\n",
    "  'Sex': 'male',\n",
    "  'Survived': '0'\n",
    "}\n",
    " \n",
    "row5 = {'Age': '14',\n",
    "  'Embarked': 'C',\n",
    "  'Fare': '30.0708',\n",
    "  'Name': 'Nasser, Mrs. Nicholas (Adele Achem)',\n",
    "  'Pclass': '2',\n",
    "  'Sex': 'female',\n",
    "  'Survived': '1'\n",
    "}\n",
    "\n",
    "row6 = {'Age': '4',\n",
    "  'Embarked': 'S',\n",
    "  'Fare': '16.7',\n",
    "  'Name': 'Sandstrom, Miss. Marguerite Rut',\n",
    "  'Pclass': '3',\n",
    "  'Sex': 'female',\n",
    "  'Survived': '1'\n",
    "}\n",
    "\n",
    "row7 = {'Age': '58',\n",
    "  'Embarked': 'S',\n",
    "  'Fare': '26.55',\n",
    "  'Name': 'Bonnell, Miss. Elizabeth',\n",
    "  'Pclass': '1',\n",
    "  'Sex': 'female',\n",
    "  'Survived': '1'\n",
    "}"
   ]
  },
  {
   "cell_type": "markdown",
   "metadata": {},
   "source": [
    "## Try your coding ideas out\n",
    "\n",
    "Reminder: you can open a new code cell by clicking the + button on the top left. You execute a cell by clicking on it (to get focus) and then typing shift-enter."
   ]
  },
  {
   "cell_type": "code",
   "execution_count": 2,
   "metadata": {
    "collapsed": true
   },
   "outputs": [],
   "source": [
    "# Go to it"
   ]
  },
  {
   "cell_type": "markdown",
   "metadata": {},
   "source": [
    "# References\n",
    "\n"
   ]
  }
 ],
 "metadata": {
  "kernelspec": {
   "display_name": "Python 2",
   "language": "python",
   "name": "python2"
  },
  "language_info": {
   "codemirror_mode": {
    "name": "ipython",
    "version": 2
   },
   "file_extension": ".py",
   "mimetype": "text/x-python",
   "name": "python",
   "nbconvert_exporter": "python",
   "pygments_lexer": "ipython2",
   "version": "2.7.11"
  }
 },
 "nbformat": 4,
 "nbformat_minor": 0
}
