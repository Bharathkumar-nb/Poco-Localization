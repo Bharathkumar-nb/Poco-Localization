{
 "cells": [
  {
   "cell_type": "markdown",
   "metadata": {},
   "source": [
    "## A place to debug\n",
    "\n",
    "This notebook is a place for you to work on the assessment problems in this module. Below is the code to build the starter table used in the assessment. Feel free to try out whatever you want - it's your notebook and you can't hurt anything. The list `titanic_starter_table` represents the spreadsheet or table as shown below.\n",
    "\n",
    "Note: a poco assessment lets you jump around in the challenges. When solving the challenges below, solve them sequentially.\n",
    "\n",
    "<img src=\"https://www.dropbox.com/s/xdqv8lsvizlkua1/titanic_looping_test.png?raw=1\">\n"
   ]
  },
  {
   "cell_type": "code",
   "execution_count": 1,
   "metadata": {
    "collapsed": false
   },
   "outputs": [],
   "source": [
    "# No reason to change this code. It sets up the table.\n",
    "\n",
    "row1 = {'Age': 22,\n",
    "  'Embarked': 'S',\n",
    "  'Fare': 7.25,\n",
    "  'Name': 'Braund, Mr. Owen Harris',\n",
    "  'Pclass': 3,\n",
    "  'Sex': 'male',\n",
    "  'Survived': 0\n",
    "}\n",
    "\n",
    "row2 = {'Age': 38,\n",
    "  'Embarked': 'C',\n",
    "  'Fare': 71.2833,\n",
    "  'Name': 'Cuming, Mrs. John Bradley (Florence Briggs Thayer)',\n",
    "  'Pclass': 1,\n",
    "  'Sex': 'female',\n",
    "  'Survived': 1\n",
    "}\n",
    "\n",
    "row3 = {'Age': 26,\n",
    "  'Embarked': 'S',\n",
    "  'Fare': 7.925,\n",
    "  'Name': 'Heikkinen, Miss. Laina',\n",
    "  'Pclass': 3,\n",
    "  'Sex': 'female',\n",
    "  'Survived': 1\n",
    "}\n",
    "\n",
    "row4 = {'Age': 2,\n",
    "  'Embarked': 'S',\n",
    "  'Fare': 21.075,\n",
    "  'Name': 'Palsson, Master. Gosta Leonard',\n",
    "  'Pclass': 3,\n",
    "  'Sex': 'male',\n",
    "  'Survived': 0\n",
    "}\n",
    "\n",
    "row5 = {'Age': 14,\n",
    "  'Embarked': 'C',\n",
    "  'Fare': 30.0708,\n",
    "  'Name': 'Nasser, Mrs. Nicholas (Adele Achem)',\n",
    "  'Pclass': 2,\n",
    "  'Sex': 'female',\n",
    "  'Survived': 1\n",
    "}\n",
    "\n",
    "row6 = {'Age': 4,\n",
    "  'Embarked': 'S',\n",
    "  'Fare': 16.7,\n",
    "  'Name': 'Sandstrom, Miss. Marguerite Rut',\n",
    "  'Pclass': 3,\n",
    "  'Sex': 'female',\n",
    "  'Survived': 1\n",
    "}\n",
    "\n",
    "row7 = {'Age': 58,\n",
    "  'Embarked': 'S',\n",
    "  'Fare': 26.55,\n",
    "  'Name': 'Bonnell, Miss. Elizabeth',\n",
    "  'Pclass': 1,\n",
    "  'Sex': 'female',\n",
    "  'Survived': 1\n",
    "}\n",
    "\n",
    "titanic_starter_table = [row1, row2, row3, row4, row5, row6, row7]"
   ]
  },
  {
   "cell_type": "markdown",
   "metadata": {},
   "source": [
    "## Challenge 1\n",
    "\n",
    "Create a sub-table, called child_table, that holds all passesngers that are younger than 9. Use a filtered map to do so. "
   ]
  },
  {
   "cell_type": "code",
   "execution_count": null,
   "metadata": {
    "collapsed": false
   },
   "outputs": [],
   "source": []
  },
  {
   "cell_type": "markdown",
   "metadata": {},
   "source": [
    "## Challenge 2\n",
    "\n",
    "Create a sub-table, called expensive_table, that holds all passengers that paid more than 30.0 (pounds?). Use a filtered map to do so. "
   ]
  },
  {
   "cell_type": "code",
   "execution_count": null,
   "metadata": {
    "collapsed": false
   },
   "outputs": [],
   "source": []
  },
  {
   "cell_type": "markdown",
   "metadata": {},
   "source": [
    "## Challenge 3\n",
    "\n",
    "You can assume that expensive_table holds the proper value. Create a sub-table, called expensive_class1_table, that holds all passesngers that paid more than 30.0 (pounds?) and were in Pclass 1. Use a filtered map to do so."
   ]
  },
  {
   "cell_type": "code",
   "execution_count": null,
   "metadata": {
    "collapsed": false
   },
   "outputs": [],
   "source": []
  },
  {
   "cell_type": "markdown",
   "metadata": {},
   "source": [
    "## Challenge 4\n",
    "\n",
    "Find how many passengers that Embarked in S (i.e., Southhampton) did survive. Place your result in the variable s_survived_count. Use concepts you have learned in modules 2 and 3 to do this calculation. "
   ]
  },
  {
   "cell_type": "code",
   "execution_count": null,
   "metadata": {
    "collapsed": false
   },
   "outputs": [],
   "source": []
  },
  {
   "cell_type": "markdown",
   "metadata": {},
   "source": [
    "## Challenge 5\n",
    "\n",
    "Compute the average fare for those passengers that were not in Pclass 3 (the bottom deck). Place your result in the variable average_fare_not_class_3. Use concepts you have learned in modules 2 and 3 to create the value."
   ]
  },
  {
   "cell_type": "code",
   "execution_count": null,
   "metadata": {
    "collapsed": false
   },
   "outputs": [],
   "source": []
  },
  {
   "cell_type": "markdown",
   "metadata": {},
   "source": [
    "## Challenge 6\n",
    "\n",
    "Find the average age of the female passengers. Place your result in <code>average_female_age</code>. Use concepts you have learned in modules 2 and 3 to create the value."
   ]
  },
  {
   "cell_type": "code",
   "execution_count": null,
   "metadata": {
    "collapsed": true
   },
   "outputs": [],
   "source": []
  }
 ],
 "metadata": {
  "kernelspec": {
   "display_name": "Python 2",
   "language": "python",
   "name": "python2"
  },
  "language_info": {
   "codemirror_mode": {
    "name": "ipython",
    "version": 2
   },
   "file_extension": ".py",
   "mimetype": "text/x-python",
   "name": "python",
   "nbconvert_exporter": "python",
   "pygments_lexer": "ipython2",
   "version": "2.7.13"
  }
 },
 "nbformat": 4,
 "nbformat_minor": 0
}
