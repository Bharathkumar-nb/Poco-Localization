{
 "cells": [
  {
   "cell_type": "markdown",
   "metadata": {},
   "source": [
    "## A place to practice\n",
    "\n",
    "This notebook is a place for you to practice for the assessment in this module. \n",
    "\n",
    "As a reminder, you can use the + menu item on top left to generate new cells in the notebook. The default is to get a new Code cell where you can type Python code and then type shift-enter to execute that code.\n",
    "\n",
    "But you can also take notes in your notebook. You can do this by changing from a Code cell to a Markdown cell. To do that, click the Code menu at top and select Markdown. Now you can type notes to yourself.\n",
    "\n",
    "There are no limit to the number of cells you can add to your notebook. Just keep clicking the + to get new ones and then decide if you want Code or Markdown. Cool."
   ]
  },
  {
   "cell_type": "code",
   "execution_count": 1,
   "metadata": {
    "collapsed": false
   },
   "outputs": [],
   "source": [
    "#Here is a code cell to get you going - I used + to generate it\n",
    "\n",
    "x = 23\n",
    "print(x)  # remember to type shift-enter to execute the code in this cell"
   ]
  }
 ],
 "metadata": {
  "kernelspec": {
   "display_name": "Python 2",
   "language": "python",
   "name": "python2"
  },
  "language_info": {
   "codemirror_mode": {
    "name": "ipython",
    "version": 2
   },
   "file_extension": ".py",
   "mimetype": "text/x-python",
   "name": "python",
   "nbconvert_exporter": "python",
   "pygments_lexer": "ipython2",
   "version": "2.7.11"
  }
 },
 "nbformat": 4,
 "nbformat_minor": 0
}
