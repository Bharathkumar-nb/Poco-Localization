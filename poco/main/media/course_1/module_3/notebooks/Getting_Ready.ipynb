{
 "cells": [
  {
   "cell_type": "markdown",
   "metadata": {},
   "source": [
    "<center><h1>Getting Ready</h1></center>"
   ]
  },
  {
   "cell_type": "markdown",
   "metadata": {},
   "source": [
    "## Preliminaries\n",
    "\n",
    "Welcome to Hooked on Python: Predicting the Future. In the following modules, I will introduce the Python language through a set of examples that lead us to making predictions from ordinary spreadsheet data. My goal is to provide practical skills that you can use immediately with the data you use in your daily life.\n",
    "\n",
    "I am assuming you do not know how to program. That's ok. Another of my goals is to get you excited about programming in Python (i.e., hooked). My hope is that once you see the powerful things you can do with your own spreadsheets with the basic Python programming you learn in this course, you will be motivated to learn more.\n",
    "\n",
    "As a personal note, the *hooked* approach has worked for me many times when I am the student. I am forever grateful to Earl (the Duke) McKeever for being my first jazz saxophone teacher. At my very first lesson, Earl sized me up as someone who was not going to be motivated by practicing Mary Had a Little Lamb. Instead, Earl gave me some licks from My Little Suede Shoes (https://youtu.be/-JKDFD1PZ8Y) to take home and practice. That hooked me. Now I am playing at the mall! That's me on the left.\n",
    "\n",
    "<img src=\"https://www.dropbox.com/s/sudvivznxzhomgg/jazz_at_oakway_small.jpg?raw=1\">"
   ]
  },
  {
   "cell_type": "markdown",
   "metadata": {},
   "source": [
    "## Your Little Suede Shoes\n",
    "\n",
    "Earl got me hooked with My Little Suede Shoes. I need something similar to hook you. I've decided on asking you to make predictions of survival for Titanic passengers. For those of you who did not see the movie, the Titanic hit an iceberg and sank on its maiden vorage in 1912. Historians have collected lots of data about the passengers onboard and specifically who survived and who went down with the ship. They have put that data in a spreadsheet.\n",
    "\n",
    "![Sinking of the RMS Titanic](https://pbs.twimg.com/profile_images/1305956322/titanic2.jpg \"Sinking of the RMS Titanic\")\n",
    "\n",
    "I think the Titanic data is interesting from several angles. You can use cultural and societal norms of the time to help to understand it. Gender, ethnicity, and class cerainly played a role in who lived and who died. It also is a good representation of spreadsheet data for this course. It has a variety of columns. It has missing values. It should not look that much different than the type of spreadsheets you use at the office, as part of your hobbies, for keeping data on the youth sports team you coach.\n",
    "\n",
    "End of motivational pitch.\n",
    "\n",
    "My goal is to get us into making predictions as fast as possible. All of the Python we cover is presented with that goal in mind - what are the Python concepts you need to start making predictions."
   ]
  },
  {
   "cell_type": "markdown",
   "metadata": {},
   "source": [
    "## Using Pythonanywhere\n",
    "\n",
    "I have chosen to run the course using pythonanywhere as a place for you to follow along. When you sign up for the course, you will also be given a student account on www.pythonanywhere.com. The general idea is that I will provide lecture material and self-assessments on this site. You will use your pythonanywhere account to both follow along with me and do your own practice."
   ]
  },
  {
   "cell_type": "markdown",
   "metadata": {},
   "source": [
    "## Getting situated in pythonanywhere\n",
    "\n",
    "At this point, I'd like you to login to your pythonanywhere account. You will need to have this site in one browser tab and your pythonanywhere site in another browswer tab. I think the clearest way to do this is to open a new browser *window* with the pythonanywhere tab. That way, you can see this window and the other window at the same time. Might have to resize the windows.\n",
    "\n",
    "Once you have logged in, you will see a screen that looks like below.\n",
    "\n",
    "<img src=\"https://www.dropbox.com/s/uanwcpapiczzftc/step1.png?raw=1\">\n",
    "\n",
    "Click on the Files tab."
   ]
  },
  {
   "cell_type": "markdown",
   "metadata": {},
   "source": [
    "## What's what in the Files tab\n",
    "\n",
    "<img src=\"https://www.dropbox.com/s/w45jbccev7y5pzy/step2.png?raw=1\">\n",
    "\n",
    "There are several things I'd like you to notice. First, on the left, you have folders and files. Same as you are used to seeing on your own computer, but these are now in the cloud, stored for you back at pythonanywhere headquarters. The folders called module1, module2, etc. are ones that are set up for you for this course. Each folder has lecture content and a practice file. We will take a look into module1 in just a bit.\n",
    "\n",
    "The second thing to notice is that you can create your own folders (directories) and you can upload files from your computer. I don't foresee you having to do this, but it is there if you need it.\n",
    "\n",
    "The third thing to notice is the list of files on the right. I am currently in my home folder and these are the files in that folder. Let's move to the module1 folder and see how that changes. Click on module1."
   ]
  },
  {
   "cell_type": "markdown",
   "metadata": {},
   "source": [
    "## Loading a notebook\n",
    "\n",
    "<img src=\"https://www.dropbox.com/s/k0naofxdi62rlrx/step3.png?raw=1\">\n",
    "\n",
    "You have one file in the module1 folder currently. I put it there! It is the notebook that contains the lecture. What is a notebook? It's pretty cool. It is kind of like an online chapter in a book but it is interactive. You get your own copy and can type your own Python code and try it out. Or you can run my code and see what happens. You can add your notes directly into the notebook. It's all yours - you don't share it.\n",
    "\n",
    "Open the notebook by clicking on the file name."
   ]
  },
  {
   "cell_type": "markdown",
   "metadata": {},
   "source": [
    "## Notebook interface\n",
    "\n",
    "<img src=\"https://www.dropbox.com/s/qoya2dpil8dzu19/step4.png?raw=1\">\n",
    "\n",
    "This kind of makes my head hurt. You are looking at exactly what we are doing now. You should see the same thing in both your browser windows. The difference is that the pythonanywhere version is your copy. And it is fully operational and ready for you to interact with it. Let's test this out:\n",
    "1. Look at top of notebook for the + (on top left). Click it. You should see something that looks like `In [ ]:` and a white box.\n",
    "2. Click on the box - this tells the notebook to focus on that box.\n",
    "3. Type 3+4 into the box.\n",
    "4. Hold the shft key down and hit the enter key (called shift-enter). You should see `Out[1]:  7`. Congrats. Your first Python code.\n",
    "\n",
    "To summarize, if you see an `In [ ]:` that is part of the lecture content - I put it there - you can execute my code by clicking on the box and hitting shift-enter. And you can always generate your own box with the + and type your own code and try it out with shift-enter. I think it is powerful.\n",
    "\n",
    "What is going on behind the scenes is that Python is listening for the shift-enter command. When it sees it, it grabs your code, executes it, then gives you the result."
   ]
  },
  {
   "cell_type": "markdown",
   "metadata": {},
   "source": [
    "## Switch over\n",
    "\n",
    "From here on, there is really no need for you to switch back and forth between browser windows. Just use the pythonanywhere window and follow along from there."
   ]
  },
  {
   "cell_type": "markdown",
   "metadata": {},
   "source": [
    "## How about taking notes?\n",
    "\n",
    "You tried out adding a new code box (AKA cell) with the + command. You can add a note box with only a slight twist:\n",
    "1. Click on the box where you want to add your own note.\n",
    "1. Look at top of notebook for the + (on top left). Click it. You should see something that looks like `In [ ]:` and a white box.\n",
    "2. Click on the box - this tells the notebook to focus on that box.\n",
    "3. At the top of the notebook, look for a button labeled `Code`. Click it to get options.\n",
    "4. Choose Markdown. You should see the `In [ ]:` disappear - it only appears on Code boxes.\n",
    "\n",
    "You have now changed the cell to one that accepts your notes. There is  formatting available when you are ready to format your notes. The formatting language used is called *markdown*. Here is a tutorial on it: http://www.markdowntutorial.com/. Here is a cheatseat if you just want to dive in: https://github.com/adam-p/markdown-here/wiki/Markdown-Cheatsheet. You do not have to learn this language! You can just type text, no problem. But if you want to clean your text up, markdown is meant to be a simple way to do it.\n",
    "\n",
    "Go ahead and click on this box, follow the directions above to create a markdown box and write a note to yourself. Again, I think this is pretty darn powerful. You can intersperse your notes with the actual content."
   ]
  },
  {
   "cell_type": "markdown",
   "metadata": {},
   "source": [
    "## Live coding with the debugging videos\n",
    "\n",
    "Besides the lecture content, you can follow along with the debugging videos. Each module has a video where I explore how to debug the code from that module. The general idea is that novice and experts alike make coding mistakes. Mistakes often lead to Python giving us error messages. Experts can often interpret these messages to lead them back to the actual mistake they made. The videos focus on this skill - learn to interpret the errors that Python reports.\n",
    "\n",
    "I really encourage you to do the two browser window approach to follow along with these videos. Have the video playing in one browser window. Have pythonanywhere in another browser window. Open a practice notebook and mimic what I do in the video. This is called live-coding - you follow what I type and see for yourself what is produced."
   ]
  },
  {
   "cell_type": "markdown",
   "metadata": {},
   "source": [
    "## What about all the other menus?\n",
    "\n",
    "There are lots of clickable options on both pythonanywere and the notebook that I did not go over. I don't think we need it. You are welcome to explore on your own. But I want to stick to things we need to get to doing prediction so am ruthless in cutting other things out."
   ]
  },
  {
   "cell_type": "markdown",
   "metadata": {},
   "source": [
    "## Next up\n",
    "\n",
    "First, save what you have done. Go to the File menu at the top of your notebook and choose Save and Checkpoint. When you logout and log back in later, your notebook will be ready with any changes you made to it."
   ]
  }
 ],
 "metadata": {
  "kernelspec": {
   "display_name": "Python 3",
   "language": "python",
   "name": "python3"
  },
  "language_info": {
   "codemirror_mode": {
    "name": "ipython",
    "version": 3
   },
   "file_extension": ".py",
   "mimetype": "text/x-python",
   "name": "python",
   "nbconvert_exporter": "python",
   "pygments_lexer": "ipython3",
   "version": "3.5.1"
  }
 },
 "nbformat": 4,
 "nbformat_minor": 0
}
